{
 "cells": [
  {
   "cell_type": "markdown",
   "id": "02d8539e-ed3e-4284-9cdd-ccb83b8cb89c",
   "metadata": {},
   "source": [
    "# Task 4:Task 1: Code for LUHN Algorithm "
   ]
  },
  {
   "cell_type": "code",
   "execution_count": 2,
   "id": "8507f64b-ec4f-45a0-a0eb-0807ee5d36a1",
   "metadata": {},
   "outputs": [
    {
     "name": "stdout",
     "output_type": "stream",
     "text": [
      "Card number is valid\n"
     ]
    }
   ],
   "source": [
    "def validate_card_number(card_number):\n",
    "    \"\"\"Validate a credit card number using the Luhn Algorithm\"\"\"\n",
    "    def digits_of(n):\n",
    "        return [int(d) for d in str(n)]\n",
    "    digits = digits_of(card_number)\n",
    "    check_digit = digits.pop()\n",
    "    digits = digits[::-1]\n",
    "    for i in range(0, len(digits), 2):\n",
    "        digits[i] *= 2\n",
    "        if digits[i] > 9:\n",
    "            digits[i] -= 9\n",
    "    if sum(digits) * 9 % 10 == check_digit:\n",
    "        return True\n",
    "    else:\n",
    "        return False\n",
    "\n",
    "\n",
    "card_number = 2345627652346537\n",
    "if validate_card_number(card_number):\n",
    "    print(\"Card number is valid\")\n",
    "else:\n",
    "    print(\"Card number is invalid\")"
   ]
  },
  {
   "cell_type": "markdown",
   "id": "18920997-dfa0-4424-a4f6-4c2ae1ffaa07",
   "metadata": {},
   "source": [
    "# Task 2: Remove Punctuations from UserInput String"
   ]
  },
  {
   "cell_type": "code",
   "execution_count": 6,
   "id": "c091ba5b-98a2-40be-9d3b-d571cf237f47",
   "metadata": {},
   "outputs": [
    {
     "name": "stderr",
     "output_type": "stream",
     "text": [
      "<>:3: SyntaxWarning: invalid escape sequence '\\,'\n",
      "<>:3: SyntaxWarning: invalid escape sequence '\\,'\n",
      "C:\\Users\\zain\\AppData\\Local\\Temp\\ipykernel_8328\\1963878022.py:3: SyntaxWarning: invalid escape sequence '\\,'\n",
      "  punctuations = '''!()-[]{};:'\"\\,<>./?@#$%^&*_~'''\n"
     ]
    },
    {
     "name": "stdin",
     "output_type": "stream",
     "text": [
      "Enter a string:  !\n"
     ]
    },
    {
     "name": "stdout",
     "output_type": "stream",
     "text": [
      "String without punctuations: \n"
     ]
    }
   ],
   "source": [
    "def remove_punctuations(input_string):\n",
    "    \"\"\"Remove punctuations from a string\"\"\"\n",
    "    punctuations = '''!()-[]{};:'\"\\,<>./?@#$%^&*_~'''\n",
    "    output_string = \"\"\n",
    "    for char in input_string:\n",
    "        if char not in punctuations:\n",
    "            output_string += char\n",
    "    return output_string\n",
    "\n",
    "\n",
    "user_input = input(\"Enter a string: \")\n",
    "cleaned_string = remove_punctuations(user_input)\n",
    "print(\"String without punctuations:\", cleaned_string)"
   ]
  },
  {
   "cell_type": "markdown",
   "id": "311c9b61-dd67-46da-bf64-5f9b33d353ee",
   "metadata": {},
   "source": [
    "# Task 3:Sort text (word) in Alphabetical Order"
   ]
  },
  {
   "cell_type": "code",
   "execution_count": 9,
   "id": "d3bb9167-35c9-4791-8358-1973f0b1396c",
   "metadata": {},
   "outputs": [
    {
     "name": "stdin",
     "output_type": "stream",
     "text": [
      "Enter a string:  zain\n"
     ]
    },
    {
     "name": "stdout",
     "output_type": "stream",
     "text": [
      "Sorted string: zain\n"
     ]
    }
   ],
   "source": [
    "def sort_text(input_string):\n",
    "    \"\"\"Sort a string in alphabetical order\"\"\"\n",
    "    words = input_string.split()\n",
    "    sorted_words = []\n",
    "    for word in words:\n",
    "        inserted = False\n",
    "        for i, sorted_word in enumerate(sorted_words):\n",
    "            if word.lower() < sorted_word.lower():\n",
    "                sorted_words.insert(i, word)\n",
    "                inserted = True\n",
    "                break\n",
    "        if not inserted:\n",
    "            sorted_words.append(word)\n",
    "    return ' '.join(sorted_words)\n",
    "\n",
    "\n",
    "user_input = input(\"Enter a string: \")\n",
    "sorted_string = sort_text(user_input)\n",
    "print(\"Sorted string:\", sorted_string)"
   ]
  },
  {
   "cell_type": "code",
   "execution_count": null,
   "id": "4c0453d2-4805-4909-9600-2aeebdc8e53a",
   "metadata": {},
   "outputs": [],
   "source": []
  }
 ],
 "metadata": {
  "kernelspec": {
   "display_name": "Python 3 (ipykernel)",
   "language": "python",
   "name": "python3"
  },
  "language_info": {
   "codemirror_mode": {
    "name": "ipython",
    "version": 3
   },
   "file_extension": ".py",
   "mimetype": "text/x-python",
   "name": "python",
   "nbconvert_exporter": "python",
   "pygments_lexer": "ipython3",
   "version": "3.12.4"
  }
 },
 "nbformat": 4,
 "nbformat_minor": 5
}
