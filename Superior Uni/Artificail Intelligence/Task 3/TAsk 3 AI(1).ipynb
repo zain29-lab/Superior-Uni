{
 "cells": [
  {
   "cell_type": "markdown",
   "id": "9c81a6d0-aa15-480d-b457-d320ff87eb4f",
   "metadata": {},
   "source": [
    "# Task 3:Task 3: Sort text (word) in Alphabetical Order"
   ]
  },
  {
   "cell_type": "code",
   "execution_count": 9,
   "id": "6858999d-0b8f-4eb2-afcc-c741e225f11e",
   "metadata": {},
   "outputs": [
    {
     "name": "stdout",
     "output_type": "stream",
     "text": [
      "['apple', 'banana', 'cherry', 'orange']\n"
     ]
    }
   ],
   "source": [
    "words = [\"banana\", \"apple\", \"cherry\", \"orange\"]\n",
    "\n",
    "n = len(words)\n",
    "for i in range(n):\n",
    "    for j in range(0, n-i-1):\n",
    "        if words[j] > words[j+1]:\n",
    "            words[j], words[j+1] = words[j+1], words[j]\n",
    "\n",
    "print(words)"
   ]
  },
  {
   "cell_type": "code",
   "execution_count": null,
   "id": "b5c49202-2b20-402e-8cfa-1b450de1a9ae",
   "metadata": {},
   "outputs": [],
   "source": []
  }
 ],
 "metadata": {
  "kernelspec": {
   "display_name": "Python 3 (ipykernel)",
   "language": "python",
   "name": "python3"
  },
  "language_info": {
   "codemirror_mode": {
    "name": "ipython",
    "version": 3
   },
   "file_extension": ".py",
   "mimetype": "text/x-python",
   "name": "python",
   "nbconvert_exporter": "python",
   "pygments_lexer": "ipython3",
   "version": "3.12.4"
  }
 },
 "nbformat": 4,
 "nbformat_minor": 5
}
