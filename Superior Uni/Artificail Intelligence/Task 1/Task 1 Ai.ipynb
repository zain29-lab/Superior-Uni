{
 "cells": [
  {
   "cell_type": "markdown",
   "id": "9d5ffd5c-5474-4067-8920-1a7229b296da",
   "metadata": {},
   "source": [
    "# Task 1: Code for LUHN Algorithm"
   ]
  },
  {
   "cell_type": "code",
   "execution_count": 2,
   "id": "2a1074ee-050a-4112-8216-fcdcd7f53716",
   "metadata": {},
   "outputs": [
    {
     "name": "stdout",
     "output_type": "stream",
     "text": [
      "The card number 2346270978123098 is invalid.\n"
     ]
    }
   ],
   "source": [
    "def luhn_check(card_number):\n",
    "    digits = [int(d) for d in str(card_number)]\n",
    "    digits.reverse()\n",
    "    for i in range(1, len(digits), 2):\n",
    "        digits[i] *=2\n",
    "        if digits[i] > 9:\n",
    "            digits[i] -= 9\n",
    "    total_sum = sum(digits)\n",
    "    return total_sum % 10 == 0\n",
    "\n",
    "card_number = 2346270978123098 \n",
    "is_valid = luhn_check(card_number)\n",
    "print(f\"The card number {card_number} is {'valid' if is_valid else 'invalid'}.\")"
   ]
  }
 ],
 "metadata": {
  "kernelspec": {
   "display_name": "Python 3 (ipykernel)",
   "language": "python",
   "name": "python3"
  },
  "language_info": {
   "codemirror_mode": {
    "name": "ipython",
    "version": 3
   },
   "file_extension": ".py",
   "mimetype": "text/x-python",
   "name": "python",
   "nbconvert_exporter": "python",
   "pygments_lexer": "ipython3",
   "version": "3.12.4"
  }
 },
 "nbformat": 4,
 "nbformat_minor": 5
}
