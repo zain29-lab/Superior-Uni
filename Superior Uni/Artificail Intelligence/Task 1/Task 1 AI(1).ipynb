{
 "cells": [
  {
   "cell_type": "markdown",
   "id": "8ce21133-766e-4a53-ab83-3b757c684d09",
   "metadata": {},
   "source": [
    "# Task 1: To-Do list (Dynamic)\n"
   ]
  },
  {
   "cell_type": "code",
   "execution_count": 2,
   "id": "963c31cc-ce7e-4dfd-8aab-30db62a3f56a",
   "metadata": {},
   "outputs": [
    {
     "name": "stdout",
     "output_type": "stream",
     "text": [
      "\n",
      "Options:\n",
      "1. Display tasks\n",
      "2. Add task\n",
      "3. Delete task\n",
      "4. Quit\n"
     ]
    },
    {
     "name": "stdin",
     "output_type": "stream",
     "text": [
      "Choose an option:  2\n",
      "Enter a new task:  3\n"
     ]
    },
    {
     "name": "stdout",
     "output_type": "stream",
     "text": [
      "Task '3' added!\n",
      "\n",
      "Options:\n",
      "1. Display tasks\n",
      "2. Add task\n",
      "3. Delete task\n",
      "4. Quit\n"
     ]
    },
    {
     "name": "stdin",
     "output_type": "stream",
     "text": [
      "Choose an option:  4\n"
     ]
    }
   ],
   "source": [
    "# To-Do List Program\n",
    "tasks = []\n",
    "\n",
    "def display_tasks():\n",
    "    \"\"\"Display all tasks in the list\"\"\"\n",
    "    print(\"To-Do List:\")\n",
    "    for i, task in enumerate(tasks, start=1):\n",
    "        print(f\"{i}. {task}\")\n",
    "\n",
    "def add_task():\n",
    "    \"\"\"Add a new task to the list\"\"\"\n",
    "    task = input(\"Enter a new task: \")\n",
    "    tasks.append(task)\n",
    "    print(f\"Task '{task}' added!\")\n",
    "\n",
    "def delete_task():\n",
    "    \"\"\"Delete a task from the list\"\"\"\n",
    "    display_tasks()\n",
    "    task_number = int(input(\"Enter the task number to delete: \"))\n",
    "    try:\n",
    "        del tasks[task_number - 1]\n",
    "        print(\"Task deleted!\")\n",
    "    except IndexError:\n",
    "        print(\"Invalid task number!\")\n",
    "\n",
    "while True:\n",
    "    print(\"\\nOptions:\")\n",
    "    print(\"1. Display tasks\")\n",
    "    print(\"2. Add task\")\n",
    "    print(\"3. Delete task\")\n",
    "    print(\"4. Quit\")\n",
    "    choice = input(\"Choose an option: \")\n",
    "\n",
    "    if choice == \"1\":\n",
    "        display_tasks()\n",
    "    elif choice == \"2\":\n",
    "        add_task()\n",
    "    elif choice == \"3\":\n",
    "        delete_task()\n",
    "    elif choice == \"4\":\n",
    "        break\n",
    "    else:\n",
    "        print(\"Invalid option!\")"
   ]
  },
  {
   "cell_type": "code",
   "execution_count": null,
   "id": "20db800a-52a6-4514-abe5-4328f2ddf9ca",
   "metadata": {},
   "outputs": [],
   "source": []
  }
 ],
 "metadata": {
  "kernelspec": {
   "display_name": "Python 3 (ipykernel)",
   "language": "python",
   "name": "python3"
  },
  "language_info": {
   "codemirror_mode": {
    "name": "ipython",
    "version": 3
   },
   "file_extension": ".py",
   "mimetype": "text/x-python",
   "name": "python",
   "nbconvert_exporter": "python",
   "pygments_lexer": "ipython3",
   "version": "3.12.4"
  }
 },
 "nbformat": 4,
 "nbformat_minor": 5
}
