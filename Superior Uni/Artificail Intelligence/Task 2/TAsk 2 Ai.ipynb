{
 "cells": [
  {
   "cell_type": "markdown",
   "id": "418c49f2-279e-466d-936d-76532b43266a",
   "metadata": {},
   "source": [
    "# Task 2:  Remove Punctuations from UserInput String "
   ]
  },
  {
   "cell_type": "code",
   "execution_count": 4,
   "id": "a0ec46fb-6e1b-4e83-9a74-49c11fa40cdf",
   "metadata": {},
   "outputs": [
    {
     "name": "stdout",
     "output_type": "stream",
     "text": [
      "Hello World\n"
     ]
    },
    {
     "name": "stderr",
     "output_type": "stream",
     "text": [
      "<>:2: SyntaxWarning: invalid escape sequence '\\,'\n",
      "<>:2: SyntaxWarning: invalid escape sequence '\\,'\n",
      "C:\\Users\\zain\\AppData\\Local\\Temp\\ipykernel_11428\\4002819997.py:2: SyntaxWarning: invalid escape sequence '\\,'\n",
      "  punctuation = '''!()-[]{};:'\"\\,<>./?@#$%^&*_~'''\n"
     ]
    }
   ],
   "source": [
    "def remove_punctuation(user_input):\n",
    "    punctuation = '''!()-[]{};:'\"\\,<>./?@#$%^&*_~'''\n",
    "    result = \"\"\n",
    "    \n",
    "    for char in user_input:\n",
    "        if char not in punctuation:\n",
    "            result += char\n",
    "            \n",
    "    return result\n",
    "\n",
    "user_input = \"Hello, World!\"\n",
    "cleaned_string = remove_punctuation(user_input)\n",
    "print(cleaned_string)"
   ]
  },
  {
   "cell_type": "code",
   "execution_count": null,
   "id": "570e1f9e-240d-4f00-a503-38a4822badcf",
   "metadata": {},
   "outputs": [],
   "source": []
  }
 ],
 "metadata": {
  "kernelspec": {
   "display_name": "Python 3 (ipykernel)",
   "language": "python",
   "name": "python3"
  },
  "language_info": {
   "codemirror_mode": {
    "name": "ipython",
    "version": 3
   },
   "file_extension": ".py",
   "mimetype": "text/x-python",
   "name": "python",
   "nbconvert_exporter": "python",
   "pygments_lexer": "ipython3",
   "version": "3.12.4"
  }
 },
 "nbformat": 4,
 "nbformat_minor": 5
}
