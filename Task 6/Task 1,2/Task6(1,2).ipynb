{
 "cells": [
  {
   "cell_type": "markdown",
   "id": "04ea2a0b-145c-4bd2-bad7-ac8bba348c2b",
   "metadata": {},
   "source": [
    "# Task 6(1)BFS without Queue & without Node"
   ]
  },
  {
   "cell_type": "code",
   "execution_count": 2,
   "id": "2f82e2e3-3ce2-472f-811a-72433a3b067d",
   "metadata": {},
   "outputs": [
    {
     "name": "stdout",
     "output_type": "stream",
     "text": [
      "BFS traversal order: ['A', 'B', 'C', 'D', 'E', 'F']\n"
     ]
    }
   ],
   "source": [
    "def bfs(graph, start):\n",
    "    \"\"\"Perform a breadth-first search of the graph\"\"\"\n",
    "    visited = set()\n",
    "    traversal_order = []\n",
    "    stack = [start]\n",
    "\n",
    "    while stack:\n",
    "        vertex = stack.pop(0)\n",
    "        if vertex not in visited:\n",
    "            visited.add(vertex)\n",
    "            traversal_order.append(vertex)\n",
    "            for neighbor in graph[vertex]:\n",
    "                if neighbor not in visited:\n",
    "                    stack.append(neighbor)\n",
    "\n",
    "    return traversal_order\n",
    "\n",
    "graph = {\n",
    "    'A': ['B', 'C'],\n",
    "    'B': ['A', 'D', 'E'],\n",
    "    'C': ['A', 'F'],\n",
    "    'D': ['B'],\n",
    "    'E': ['B', 'F'],\n",
    "    'F': ['C', 'E']\n",
    "}\n",
    "\n",
    "start_vertex = 'A'\n",
    "traversal_order = bfs(graph, start_vertex)\n",
    "print(\"BFS traversal order:\", traversal_order)"
   ]
  },
  {
   "cell_type": "markdown",
   "id": "d4d8d9d4-d046-47cc-95ec-81e079fe61c4",
   "metadata": {},
   "source": [
    "# Task 6(2)BFS with Queue & Node"
   ]
  },
  {
   "cell_type": "code",
   "execution_count": null,
   "id": "606bdfd4-98db-451d-910a-595213db7ce2",
   "metadata": {},
   "outputs": [],
   "source": []
  }
 ],
 "metadata": {
  "kernelspec": {
   "display_name": "Python 3 (ipykernel)",
   "language": "python",
   "name": "python3"
  },
  "language_info": {
   "codemirror_mode": {
    "name": "ipython",
    "version": 3
   },
   "file_extension": ".py",
   "mimetype": "text/x-python",
   "name": "python",
   "nbconvert_exporter": "python",
   "pygments_lexer": "ipython3",
   "version": "3.12.4"
  }
 },
 "nbformat": 4,
 "nbformat_minor": 5
}
