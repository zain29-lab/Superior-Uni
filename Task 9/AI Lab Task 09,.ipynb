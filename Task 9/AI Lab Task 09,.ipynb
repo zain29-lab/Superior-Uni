{
 "cells": [
  {
   "cell_type": "markdown",
   "id": "1c3cef2c",
   "metadata": {},
   "source": [
    "# Lahore Plot price prediction Analysis"
   ]
  },
  {
   "cell_type": "markdown",
   "id": "a7ff0730",
   "metadata": {},
   "source": [
    "# Libraries"
   ]
  },
  {
   "cell_type": "code",
   "execution_count": 1,
   "id": "75830dd4",
   "metadata": {},
   "outputs": [],
   "source": [
    "import pandas as pd"
   ]
  },
  {
   "cell_type": "markdown",
   "id": "659bc669",
   "metadata": {},
   "source": [
    "# Data Loading / Reading"
   ]
  },
  {
   "cell_type": "code",
   "execution_count": 2,
   "id": "237ff884",
   "metadata": {},
   "outputs": [],
   "source": [
    "df = pd.read_csv(r\"C:\\Users\\zain baig\\Desktop\\3rd Semester\\Data sets for Analysis\\plot_prices.csv\")\n"
   ]
  },
  {
   "cell_type": "code",
   "execution_count": 3,
   "id": "57630bb2",
   "metadata": {},
   "outputs": [
    {
     "data": {
      "text/html": [
       "<div>\n",
       "<style scoped>\n",
       "    .dataframe tbody tr th:only-of-type {\n",
       "        vertical-align: middle;\n",
       "    }\n",
       "\n",
       "    .dataframe tbody tr th {\n",
       "        vertical-align: top;\n",
       "    }\n",
       "\n",
       "    .dataframe thead th {\n",
       "        text-align: right;\n",
       "    }\n",
       "</style>\n",
       "<table border=\"1\" class=\"dataframe\">\n",
       "  <thead>\n",
       "    <tr style=\"text-align: right;\">\n",
       "      <th></th>\n",
       "      <th>Price</th>\n",
       "      <th>Location</th>\n",
       "      <th>Area</th>\n",
       "    </tr>\n",
       "  </thead>\n",
       "  <tbody>\n",
       "    <tr>\n",
       "      <th>0</th>\n",
       "      <td>3.3 Crore</td>\n",
       "      <td>Wapda Town Phase 1 - Block E1, Wapda Town Phase 1</td>\n",
       "      <td>1 Kanal</td>\n",
       "    </tr>\n",
       "    <tr>\n",
       "      <th>1</th>\n",
       "      <td>3.55 Crore</td>\n",
       "      <td>Wapda Town Phase 1 - Block F1, Wapda Town Phase 1</td>\n",
       "      <td>1 Kanal</td>\n",
       "    </tr>\n",
       "    <tr>\n",
       "      <th>2</th>\n",
       "      <td>3.4 Crore</td>\n",
       "      <td>Wapda Town Phase 1 - Block B4, Wapda Town Phase 1</td>\n",
       "      <td>1 Kanal</td>\n",
       "    </tr>\n",
       "    <tr>\n",
       "      <th>3</th>\n",
       "      <td>2.17 Crore</td>\n",
       "      <td>Wapda Town Phase 1 - Block K3, Wapda Town Phase 1</td>\n",
       "      <td>10 Marla</td>\n",
       "    </tr>\n",
       "    <tr>\n",
       "      <th>4</th>\n",
       "      <td>2.27 Crore</td>\n",
       "      <td>Wapda Town Phase 1 - Block F1, Wapda Town Phase 1</td>\n",
       "      <td>10 Marla</td>\n",
       "    </tr>\n",
       "    <tr>\n",
       "      <th>...</th>\n",
       "      <td>...</td>\n",
       "      <td>...</td>\n",
       "      <td>...</td>\n",
       "    </tr>\n",
       "    <tr>\n",
       "      <th>87</th>\n",
       "      <td>3.5 Crore</td>\n",
       "      <td>Wapda Town Phase 1 - Block H1, Wapda Town Phase 1</td>\n",
       "      <td>2 Kanal</td>\n",
       "    </tr>\n",
       "    <tr>\n",
       "      <th>88</th>\n",
       "      <td>7 Crore</td>\n",
       "      <td>Wapda Town Phase 1 - Block D2, Wapda Town Phase 1</td>\n",
       "      <td>2 Kanal</td>\n",
       "    </tr>\n",
       "    <tr>\n",
       "      <th>89</th>\n",
       "      <td>3 Crore</td>\n",
       "      <td>Wapda Town Extension, Wapda Town</td>\n",
       "      <td>1 Kanal</td>\n",
       "    </tr>\n",
       "    <tr>\n",
       "      <th>90</th>\n",
       "      <td>2.4 Crore</td>\n",
       "      <td>Wapda Town Extension, Wapda Town</td>\n",
       "      <td>1 Kanal</td>\n",
       "    </tr>\n",
       "    <tr>\n",
       "      <th>91</th>\n",
       "      <td>3.5 Crore</td>\n",
       "      <td>Wapda Town Phase 1 - Block J1, Wapda Town Phase 1</td>\n",
       "      <td>1.1 Kanal</td>\n",
       "    </tr>\n",
       "  </tbody>\n",
       "</table>\n",
       "<p>92 rows × 3 columns</p>\n",
       "</div>"
      ],
      "text/plain": [
       "         Price                                           Location       Area\n",
       "0    3.3 Crore  Wapda Town Phase 1 - Block E1, Wapda Town Phase 1    1 Kanal\n",
       "1   3.55 Crore  Wapda Town Phase 1 - Block F1, Wapda Town Phase 1    1 Kanal\n",
       "2    3.4 Crore  Wapda Town Phase 1 - Block B4, Wapda Town Phase 1    1 Kanal\n",
       "3   2.17 Crore  Wapda Town Phase 1 - Block K3, Wapda Town Phase 1   10 Marla\n",
       "4   2.27 Crore  Wapda Town Phase 1 - Block F1, Wapda Town Phase 1   10 Marla\n",
       "..         ...                                                ...        ...\n",
       "87   3.5 Crore  Wapda Town Phase 1 - Block H1, Wapda Town Phase 1    2 Kanal\n",
       "88     7 Crore  Wapda Town Phase 1 - Block D2, Wapda Town Phase 1    2 Kanal\n",
       "89     3 Crore                   Wapda Town Extension, Wapda Town    1 Kanal\n",
       "90   2.4 Crore                   Wapda Town Extension, Wapda Town    1 Kanal\n",
       "91   3.5 Crore  Wapda Town Phase 1 - Block J1, Wapda Town Phase 1  1.1 Kanal\n",
       "\n",
       "[92 rows x 3 columns]"
      ]
     },
     "execution_count": 3,
     "metadata": {},
     "output_type": "execute_result"
    }
   ],
   "source": [
    "df"
   ]
  },
  {
   "cell_type": "markdown",
   "id": "4e7cb305",
   "metadata": {},
   "source": [
    "# Data Exploration"
   ]
  },
  {
   "cell_type": "code",
   "execution_count": 4,
   "id": "4516889c",
   "metadata": {},
   "outputs": [
    {
     "name": "stdout",
     "output_type": "stream",
     "text": [
      "Number of rows :92 \n",
      " Number of columns : 3\n"
     ]
    }
   ],
   "source": [
    "print(f\"Number of rows :{df.shape[0]} \\n Number of columns : {df.shape[1]}\")"
   ]
  },
  {
   "cell_type": "code",
   "execution_count": 5,
   "id": "86541048",
   "metadata": {},
   "outputs": [
    {
     "data": {
      "text/plain": [
       "Price       82\n",
       "Location    88\n",
       "Area        90\n",
       "dtype: int64"
      ]
     },
     "execution_count": 5,
     "metadata": {},
     "output_type": "execute_result"
    }
   ],
   "source": [
    "df.count()"
   ]
  },
  {
   "cell_type": "code",
   "execution_count": 6,
   "id": "75ff4e4a",
   "metadata": {},
   "outputs": [
    {
     "data": {
      "text/html": [
       "<div>\n",
       "<style scoped>\n",
       "    .dataframe tbody tr th:only-of-type {\n",
       "        vertical-align: middle;\n",
       "    }\n",
       "\n",
       "    .dataframe tbody tr th {\n",
       "        vertical-align: top;\n",
       "    }\n",
       "\n",
       "    .dataframe thead th {\n",
       "        text-align: right;\n",
       "    }\n",
       "</style>\n",
       "<table border=\"1\" class=\"dataframe\">\n",
       "  <thead>\n",
       "    <tr style=\"text-align: right;\">\n",
       "      <th></th>\n",
       "      <th>Price</th>\n",
       "      <th>Location</th>\n",
       "      <th>Area</th>\n",
       "    </tr>\n",
       "  </thead>\n",
       "  <tbody>\n",
       "    <tr>\n",
       "      <th>count</th>\n",
       "      <td>82</td>\n",
       "      <td>88</td>\n",
       "      <td>90</td>\n",
       "    </tr>\n",
       "    <tr>\n",
       "      <th>unique</th>\n",
       "      <td>51</td>\n",
       "      <td>33</td>\n",
       "      <td>9</td>\n",
       "    </tr>\n",
       "    <tr>\n",
       "      <th>top</th>\n",
       "      <td>3.5 Crore</td>\n",
       "      <td>Wapda Town Phase 1 - Block D2, Wapda Town Phase 1</td>\n",
       "      <td>1 Kanal</td>\n",
       "    </tr>\n",
       "    <tr>\n",
       "      <th>freq</th>\n",
       "      <td>5</td>\n",
       "      <td>8</td>\n",
       "      <td>40</td>\n",
       "    </tr>\n",
       "  </tbody>\n",
       "</table>\n",
       "</div>"
      ],
      "text/plain": [
       "            Price                                           Location     Area\n",
       "count          82                                                 88       90\n",
       "unique         51                                                 33        9\n",
       "top     3.5 Crore  Wapda Town Phase 1 - Block D2, Wapda Town Phase 1  1 Kanal\n",
       "freq            5                                                  8       40"
      ]
     },
     "execution_count": 6,
     "metadata": {},
     "output_type": "execute_result"
    }
   ],
   "source": [
    "df.describe()"
   ]
  },
  {
   "cell_type": "code",
   "execution_count": 11,
   "id": "4b82cd23",
   "metadata": {},
   "outputs": [
    {
     "data": {
      "text/plain": [
       "Price       10\n",
       "Location     4\n",
       "Area         2\n",
       "dtype: int64"
      ]
     },
     "execution_count": 11,
     "metadata": {},
     "output_type": "execute_result"
    }
   ],
   "source": [
    "df.isnull().sum()"
   ]
  },
  {
   "cell_type": "code",
   "execution_count": 8,
   "id": "9d68d37f",
   "metadata": {},
   "outputs": [
    {
     "data": {
      "text/html": [
       "<div>\n",
       "<style scoped>\n",
       "    .dataframe tbody tr th:only-of-type {\n",
       "        vertical-align: middle;\n",
       "    }\n",
       "\n",
       "    .dataframe tbody tr th {\n",
       "        vertical-align: top;\n",
       "    }\n",
       "\n",
       "    .dataframe thead th {\n",
       "        text-align: right;\n",
       "    }\n",
       "</style>\n",
       "<table border=\"1\" class=\"dataframe\">\n",
       "  <thead>\n",
       "    <tr style=\"text-align: right;\">\n",
       "      <th></th>\n",
       "      <th>Price</th>\n",
       "      <th>Location</th>\n",
       "      <th>Area</th>\n",
       "    </tr>\n",
       "  </thead>\n",
       "  <tbody>\n",
       "    <tr>\n",
       "      <th>0</th>\n",
       "      <td>3.3 Crore</td>\n",
       "      <td>Wapda Town Phase 1 - Block E1, Wapda Town Phase 1</td>\n",
       "      <td>1 Kanal</td>\n",
       "    </tr>\n",
       "    <tr>\n",
       "      <th>1</th>\n",
       "      <td>3.55 Crore</td>\n",
       "      <td>Wapda Town Phase 1 - Block F1, Wapda Town Phase 1</td>\n",
       "      <td>1 Kanal</td>\n",
       "    </tr>\n",
       "    <tr>\n",
       "      <th>2</th>\n",
       "      <td>3.4 Crore</td>\n",
       "      <td>Wapda Town Phase 1 - Block B4, Wapda Town Phase 1</td>\n",
       "      <td>1 Kanal</td>\n",
       "    </tr>\n",
       "    <tr>\n",
       "      <th>3</th>\n",
       "      <td>2.17 Crore</td>\n",
       "      <td>Wapda Town Phase 1 - Block K3, Wapda Town Phase 1</td>\n",
       "      <td>10 Marla</td>\n",
       "    </tr>\n",
       "    <tr>\n",
       "      <th>4</th>\n",
       "      <td>2.27 Crore</td>\n",
       "      <td>Wapda Town Phase 1 - Block F1, Wapda Town Phase 1</td>\n",
       "      <td>10 Marla</td>\n",
       "    </tr>\n",
       "    <tr>\n",
       "      <th>5</th>\n",
       "      <td>2.8 Crore</td>\n",
       "      <td>Wapda Town Phase 2 - Block Q1, Wapda Town Phase 2</td>\n",
       "      <td>1 Kanal</td>\n",
       "    </tr>\n",
       "    <tr>\n",
       "      <th>6</th>\n",
       "      <td>3.5 Crore</td>\n",
       "      <td>Wapda Town Phase 1, Wapda Town</td>\n",
       "      <td>1 Kanal</td>\n",
       "    </tr>\n",
       "    <tr>\n",
       "      <th>7</th>\n",
       "      <td>1.65 Crore</td>\n",
       "      <td>Wapda Town Phase 2 - Block N1, Wapda Town Phase 2</td>\n",
       "      <td>10 Marla</td>\n",
       "    </tr>\n",
       "    <tr>\n",
       "      <th>8</th>\n",
       "      <td>2.25 Crore</td>\n",
       "      <td>Wapda Town Phase 2 - Block P3, Wapda Town Phase 2</td>\n",
       "      <td>1 Kanal</td>\n",
       "    </tr>\n",
       "    <tr>\n",
       "      <th>9</th>\n",
       "      <td>5.75 Crore</td>\n",
       "      <td>Wapda Town Phase 1 - Block D2, Wapda Town Phase 1</td>\n",
       "      <td>2 Kanal</td>\n",
       "    </tr>\n",
       "    <tr>\n",
       "      <th>10</th>\n",
       "      <td>1.6 Crore</td>\n",
       "      <td>Wapda Town Phase 1 - Block H4, Wapda Town Phase 1</td>\n",
       "      <td>10 Marla</td>\n",
       "    </tr>\n",
       "    <tr>\n",
       "      <th>11</th>\n",
       "      <td>3.35 Crore</td>\n",
       "      <td>Wapda Town Phase 2 - Block Q2, Wapda Town Phase 2</td>\n",
       "      <td>1.2 Kanal</td>\n",
       "    </tr>\n",
       "    <tr>\n",
       "      <th>12</th>\n",
       "      <td>1.6 Crore</td>\n",
       "      <td>Wapda Town Phase 1 - Block H4, Wapda Town Phase 1</td>\n",
       "      <td>10 Marla</td>\n",
       "    </tr>\n",
       "    <tr>\n",
       "      <th>13</th>\n",
       "      <td>7.6 Crore</td>\n",
       "      <td>Wapda Town Phase 1 - Block E2, Wapda Town Phase 1</td>\n",
       "      <td>1 Kanal</td>\n",
       "    </tr>\n",
       "    <tr>\n",
       "      <th>14</th>\n",
       "      <td>3.5 Crore</td>\n",
       "      <td>Wapda Town Phase 1 - Block J1, Wapda Town Phase 1</td>\n",
       "      <td>1.1 Kanal</td>\n",
       "    </tr>\n",
       "    <tr>\n",
       "      <th>15</th>\n",
       "      <td>2.6 Crore</td>\n",
       "      <td>Wapda Town Phase 1 - Block D3, Wapda Town Phase 1</td>\n",
       "      <td>10 Marla</td>\n",
       "    </tr>\n",
       "    <tr>\n",
       "      <th>16</th>\n",
       "      <td>2.2 Crore</td>\n",
       "      <td>Wapda Town Phase 1, Wapda Town</td>\n",
       "      <td>10 Marla</td>\n",
       "    </tr>\n",
       "    <tr>\n",
       "      <th>17</th>\n",
       "      <td>3.4 Crore</td>\n",
       "      <td>Wapda Town Phase 1 - Block H3, Wapda Town Phase 1</td>\n",
       "      <td>1 Kanal</td>\n",
       "    </tr>\n",
       "    <tr>\n",
       "      <th>18</th>\n",
       "      <td>1.85 Crore</td>\n",
       "      <td>Wapda Town Phase 2, Wapda Town</td>\n",
       "      <td>10 Marla</td>\n",
       "    </tr>\n",
       "    <tr>\n",
       "      <th>19</th>\n",
       "      <td>6.5 Crore</td>\n",
       "      <td>Wapda Town Phase 1 - Block D2, Wapda Town Phase 1</td>\n",
       "      <td>2 Kanal</td>\n",
       "    </tr>\n",
       "  </tbody>\n",
       "</table>\n",
       "</div>"
      ],
      "text/plain": [
       "         Price                                           Location       Area\n",
       "0    3.3 Crore  Wapda Town Phase 1 - Block E1, Wapda Town Phase 1    1 Kanal\n",
       "1   3.55 Crore  Wapda Town Phase 1 - Block F1, Wapda Town Phase 1    1 Kanal\n",
       "2    3.4 Crore  Wapda Town Phase 1 - Block B4, Wapda Town Phase 1    1 Kanal\n",
       "3   2.17 Crore  Wapda Town Phase 1 - Block K3, Wapda Town Phase 1   10 Marla\n",
       "4   2.27 Crore  Wapda Town Phase 1 - Block F1, Wapda Town Phase 1   10 Marla\n",
       "5    2.8 Crore  Wapda Town Phase 2 - Block Q1, Wapda Town Phase 2    1 Kanal\n",
       "6    3.5 Crore                     Wapda Town Phase 1, Wapda Town    1 Kanal\n",
       "7   1.65 Crore  Wapda Town Phase 2 - Block N1, Wapda Town Phase 2   10 Marla\n",
       "8   2.25 Crore  Wapda Town Phase 2 - Block P3, Wapda Town Phase 2    1 Kanal\n",
       "9   5.75 Crore  Wapda Town Phase 1 - Block D2, Wapda Town Phase 1    2 Kanal\n",
       "10   1.6 Crore  Wapda Town Phase 1 - Block H4, Wapda Town Phase 1   10 Marla\n",
       "11  3.35 Crore  Wapda Town Phase 2 - Block Q2, Wapda Town Phase 2  1.2 Kanal\n",
       "12   1.6 Crore  Wapda Town Phase 1 - Block H4, Wapda Town Phase 1   10 Marla\n",
       "13   7.6 Crore  Wapda Town Phase 1 - Block E2, Wapda Town Phase 1    1 Kanal\n",
       "14   3.5 Crore  Wapda Town Phase 1 - Block J1, Wapda Town Phase 1  1.1 Kanal\n",
       "15   2.6 Crore  Wapda Town Phase 1 - Block D3, Wapda Town Phase 1   10 Marla\n",
       "16   2.2 Crore                     Wapda Town Phase 1, Wapda Town   10 Marla\n",
       "17   3.4 Crore  Wapda Town Phase 1 - Block H3, Wapda Town Phase 1    1 Kanal\n",
       "18  1.85 Crore                     Wapda Town Phase 2, Wapda Town   10 Marla\n",
       "19   6.5 Crore  Wapda Town Phase 1 - Block D2, Wapda Town Phase 1    2 Kanal"
      ]
     },
     "execution_count": 8,
     "metadata": {},
     "output_type": "execute_result"
    }
   ],
   "source": [
    "df.head(20)"
   ]
  },
  {
   "cell_type": "code",
   "execution_count": 9,
   "id": "e8b17a53",
   "metadata": {},
   "outputs": [
    {
     "data": {
      "text/html": [
       "<div>\n",
       "<style scoped>\n",
       "    .dataframe tbody tr th:only-of-type {\n",
       "        vertical-align: middle;\n",
       "    }\n",
       "\n",
       "    .dataframe tbody tr th {\n",
       "        vertical-align: top;\n",
       "    }\n",
       "\n",
       "    .dataframe thead th {\n",
       "        text-align: right;\n",
       "    }\n",
       "</style>\n",
       "<table border=\"1\" class=\"dataframe\">\n",
       "  <thead>\n",
       "    <tr style=\"text-align: right;\">\n",
       "      <th></th>\n",
       "      <th>Price</th>\n",
       "      <th>Location</th>\n",
       "      <th>Area</th>\n",
       "    </tr>\n",
       "  </thead>\n",
       "  <tbody>\n",
       "    <tr>\n",
       "      <th>83</th>\n",
       "      <td>2 Crore</td>\n",
       "      <td>Wapda Town Phase 2 - Block N2, Wapda Town Phase 2</td>\n",
       "      <td>10 Marla</td>\n",
       "    </tr>\n",
       "    <tr>\n",
       "      <th>84</th>\n",
       "      <td>1.9 Crore</td>\n",
       "      <td>Wapda Town Phase 2 - Block N3, Wapda Town Phase 2</td>\n",
       "      <td>10 Marla</td>\n",
       "    </tr>\n",
       "    <tr>\n",
       "      <th>85</th>\n",
       "      <td>95 Lakh</td>\n",
       "      <td>Wapda Town Extension, Wapda Town</td>\n",
       "      <td>10 Marla</td>\n",
       "    </tr>\n",
       "    <tr>\n",
       "      <th>86</th>\n",
       "      <td>2.4 Crore</td>\n",
       "      <td>Wapda Town Phase 1 - Block A2, Wapda Town Phase 1</td>\n",
       "      <td>1 Kanal</td>\n",
       "    </tr>\n",
       "    <tr>\n",
       "      <th>87</th>\n",
       "      <td>3.5 Crore</td>\n",
       "      <td>Wapda Town Phase 1 - Block H1, Wapda Town Phase 1</td>\n",
       "      <td>2 Kanal</td>\n",
       "    </tr>\n",
       "    <tr>\n",
       "      <th>88</th>\n",
       "      <td>7 Crore</td>\n",
       "      <td>Wapda Town Phase 1 - Block D2, Wapda Town Phase 1</td>\n",
       "      <td>2 Kanal</td>\n",
       "    </tr>\n",
       "    <tr>\n",
       "      <th>89</th>\n",
       "      <td>3 Crore</td>\n",
       "      <td>Wapda Town Extension, Wapda Town</td>\n",
       "      <td>1 Kanal</td>\n",
       "    </tr>\n",
       "    <tr>\n",
       "      <th>90</th>\n",
       "      <td>2.4 Crore</td>\n",
       "      <td>Wapda Town Extension, Wapda Town</td>\n",
       "      <td>1 Kanal</td>\n",
       "    </tr>\n",
       "    <tr>\n",
       "      <th>91</th>\n",
       "      <td>3.5 Crore</td>\n",
       "      <td>Wapda Town Phase 1 - Block J1, Wapda Town Phase 1</td>\n",
       "      <td>1.1 Kanal</td>\n",
       "    </tr>\n",
       "  </tbody>\n",
       "</table>\n",
       "</div>"
      ],
      "text/plain": [
       "        Price                                           Location       Area\n",
       "83    2 Crore  Wapda Town Phase 2 - Block N2, Wapda Town Phase 2   10 Marla\n",
       "84  1.9 Crore  Wapda Town Phase 2 - Block N3, Wapda Town Phase 2   10 Marla\n",
       "85    95 Lakh                   Wapda Town Extension, Wapda Town   10 Marla\n",
       "86  2.4 Crore  Wapda Town Phase 1 - Block A2, Wapda Town Phase 1    1 Kanal\n",
       "87  3.5 Crore  Wapda Town Phase 1 - Block H1, Wapda Town Phase 1    2 Kanal\n",
       "88    7 Crore  Wapda Town Phase 1 - Block D2, Wapda Town Phase 1    2 Kanal\n",
       "89    3 Crore                   Wapda Town Extension, Wapda Town    1 Kanal\n",
       "90  2.4 Crore                   Wapda Town Extension, Wapda Town    1 Kanal\n",
       "91  3.5 Crore  Wapda Town Phase 1 - Block J1, Wapda Town Phase 1  1.1 Kanal"
      ]
     },
     "execution_count": 9,
     "metadata": {},
     "output_type": "execute_result"
    }
   ],
   "source": [
    "df.tail(9)"
   ]
  },
  {
   "cell_type": "code",
   "execution_count": 10,
   "id": "514f7098",
   "metadata": {},
   "outputs": [
    {
     "name": "stdout",
     "output_type": "stream",
     "text": [
      "<class 'pandas.core.frame.DataFrame'>\n",
      "RangeIndex: 92 entries, 0 to 91\n",
      "Data columns (total 3 columns):\n",
      " #   Column    Non-Null Count  Dtype \n",
      "---  ------    --------------  ----- \n",
      " 0   Price     92 non-null     object\n",
      " 1   Location  92 non-null     object\n",
      " 2   Area      92 non-null     object\n",
      "dtypes: object(3)\n",
      "memory usage: 2.3+ KB\n"
     ]
    }
   ],
   "source": [
    "df.info()"
   ]
  },
  {
   "cell_type": "code",
   "execution_count": 11,
   "id": "73d337c7",
   "metadata": {},
   "outputs": [
    {
     "name": "stdout",
     "output_type": "stream",
     "text": [
      "Price\n",
      "Location\n",
      "Area\n"
     ]
    }
   ],
   "source": [
    "for i in df.columns:\n",
    "    print(i)"
   ]
  },
  {
   "cell_type": "code",
   "execution_count": 8,
   "id": "2ad3d7a7",
   "metadata": {},
   "outputs": [
    {
     "data": {
      "text/plain": [
       "array(['Wapda Town Phase 1 - Block E1, Wapda Town Phase 1',\n",
       "       'Wapda Town Phase 1 - Block F1, Wapda Town Phase 1',\n",
       "       'Wapda Town Phase 1 - Block B4, Wapda Town Phase 1',\n",
       "       'Wapda Town Phase 1 - Block K3, Wapda Town Phase 1',\n",
       "       'Wapda Town Phase 2 - Block Q1, Wapda Town Phase 2',\n",
       "       'Wapda Town Phase 1, Wapda Town', nan,\n",
       "       'Wapda Town Phase 2 - Block P3, Wapda Town Phase 2',\n",
       "       'Wapda Town Phase 1 - Block D2, Wapda Town Phase 1',\n",
       "       'Wapda Town Phase 2 - Block Q2, Wapda Town Phase 2',\n",
       "       'Wapda Town Phase 1 - Block H4, Wapda Town Phase 1',\n",
       "       'Wapda Town Phase 1 - Block E2, Wapda Town Phase 1',\n",
       "       'Wapda Town Phase 1 - Block J1, Wapda Town Phase 1',\n",
       "       'Wapda Town Phase 1 - Block H3, Wapda Town Phase 1',\n",
       "       'Wapda Town Phase 2, Wapda Town',\n",
       "       'Wapda Town Phase 1 - Block A2, Wapda Town Phase 1',\n",
       "       'Wapda Town, Lahore',\n",
       "       'Wapda Town Phase 1 - Block H2, Wapda Town Phase 1',\n",
       "       'Wapda Town Phase 1 - Block K1, Wapda Town Phase 1',\n",
       "       'Wapda Town Phase 1 - Block G2, Wapda Town Phase 1',\n",
       "       'Wapda Town Phase 1 - Block J2, Wapda Town Phase 1',\n",
       "       'Wapda Town Phase 1 - Block A1, Wapda Town Phase 1',\n",
       "       'Wapda Town Phase 2 - Block N3, Wapda Town Phase 2',\n",
       "       'Wapda Town Phase 2 - Block N2, Wapda Town Phase 2',\n",
       "       'Wapda Town Phase 2 - Block P1, Wapda Town Phase 2',\n",
       "       'Wapda Town Phase 2 - Block P2, Wapda Town Phase 2',\n",
       "       'Wapda Town Phase 1 - Block H1, Wapda Town Phase 1',\n",
       "       'Wapda Town Phase 2 - Block N1, Wapda Town Phase 2',\n",
       "       'Wapda Town Phase 1 - Block G3, Wapda Town Phase 1',\n",
       "       'Wapda Town Phase 1 - Block A3, Wapda Town Phase 1',\n",
       "       'Wapda Town Phase 1 - Block G5, Wapda Town Phase 1',\n",
       "       'Wapda Town Phase 1 - Block D3, Wapda Town Phase 1',\n",
       "       'Wapda Town Phase 2 - Block M, Wapda Town Phase 2',\n",
       "       'Wapda Town Extension, Wapda Town'], dtype=object)"
      ]
     },
     "execution_count": 8,
     "metadata": {},
     "output_type": "execute_result"
    }
   ],
   "source": [
    "df['Location'].unique()"
   ]
  },
  {
   "cell_type": "code",
   "execution_count": 10,
   "id": "e505ccde",
   "metadata": {},
   "outputs": [
    {
     "data": {
      "text/plain": [
       "array(['3.3 Crore', '3.55 Crore', '3.4 Crore', '2.17 Crore', '2.27 Crore',\n",
       "       '2.8 Crore', '3.5 Crore', nan, '2.25 Crore', '5.75 Crore',\n",
       "       '1.6 Crore', '3.35 Crore', '7.6 Crore', '2.6 Crore', '2.2 Crore',\n",
       "       '1.85 Crore', '6.5 Crore', '2.9 Crore', '8.5 Crore', '2.5 Crore',\n",
       "       '3.15 Crore', '4.25 Crore', '8 Crore', '3.2 Crore', '1.45 Crore',\n",
       "       '2 Crore', '3.25 Crore', '1.75 Crore', '1.9 Crore', '6.75 Crore',\n",
       "       '5.5 Crore', '4 Crore', '2.55 Crore', '2.45 Crore', '3.6 Crore',\n",
       "       '1.65 Crore', '4.5 Crore', '2.3 Crore', '1.38 Crore', '3.75 Crore',\n",
       "       '5.25 Crore', '70 Lakh', '1.3 Crore', '6 Crore', '3.1 Crore',\n",
       "       '1.2 Crore', '10 Crore', '5 Crore', '95 Lakh', '2.4 Crore',\n",
       "       '7 Crore', '3 Crore'], dtype=object)"
      ]
     },
     "execution_count": 10,
     "metadata": {},
     "output_type": "execute_result"
    }
   ],
   "source": [
    "df['Price'].unique()"
   ]
  },
  {
   "cell_type": "code",
   "execution_count": 9,
   "id": "1e14b7fd",
   "metadata": {},
   "outputs": [
    {
     "data": {
      "text/plain": [
       "Price       51\n",
       "Location    33\n",
       "Area         9\n",
       "dtype: int64"
      ]
     },
     "execution_count": 9,
     "metadata": {},
     "output_type": "execute_result"
    }
   ],
   "source": [
    "df.nunique()"
   ]
  },
  {
   "cell_type": "markdown",
   "id": "d6cf94fe",
   "metadata": {},
   "source": [
    "# Data Preprocessing"
   ]
  },
  {
   "cell_type": "code",
   "execution_count": 12,
   "id": "8cb2a129",
   "metadata": {},
   "outputs": [
    {
     "data": {
      "text/html": [
       "<div>\n",
       "<style scoped>\n",
       "    .dataframe tbody tr th:only-of-type {\n",
       "        vertical-align: middle;\n",
       "    }\n",
       "\n",
       "    .dataframe tbody tr th {\n",
       "        vertical-align: top;\n",
       "    }\n",
       "\n",
       "    .dataframe thead th {\n",
       "        text-align: right;\n",
       "    }\n",
       "</style>\n",
       "<table border=\"1\" class=\"dataframe\">\n",
       "  <thead>\n",
       "    <tr style=\"text-align: right;\">\n",
       "      <th></th>\n",
       "      <th>Price</th>\n",
       "      <th>Location</th>\n",
       "      <th>Area</th>\n",
       "    </tr>\n",
       "  </thead>\n",
       "  <tbody>\n",
       "    <tr>\n",
       "      <th>0</th>\n",
       "      <td>3.3 Crore</td>\n",
       "      <td>Wapda Town Phase 1 - Block E1, Wapda Town Phase 1</td>\n",
       "      <td>1 Kanal</td>\n",
       "    </tr>\n",
       "    <tr>\n",
       "      <th>1</th>\n",
       "      <td>3.55 Crore</td>\n",
       "      <td>Wapda Town Phase 1 - Block F1, Wapda Town Phase 1</td>\n",
       "      <td>1 Kanal</td>\n",
       "    </tr>\n",
       "    <tr>\n",
       "      <th>2</th>\n",
       "      <td>3.4 Crore</td>\n",
       "      <td>Wapda Town Phase 1 - Block B4, Wapda Town Phase 1</td>\n",
       "      <td>1 Kanal</td>\n",
       "    </tr>\n",
       "    <tr>\n",
       "      <th>3</th>\n",
       "      <td>2.17 Crore</td>\n",
       "      <td>Wapda Town Phase 1 - Block K3, Wapda Town Phase 1</td>\n",
       "      <td>10 Marla</td>\n",
       "    </tr>\n",
       "    <tr>\n",
       "      <th>4</th>\n",
       "      <td>2.27 Crore</td>\n",
       "      <td>Wapda Town Phase 1 - Block F1, Wapda Town Phase 1</td>\n",
       "      <td>10 Marla</td>\n",
       "    </tr>\n",
       "    <tr>\n",
       "      <th>...</th>\n",
       "      <td>...</td>\n",
       "      <td>...</td>\n",
       "      <td>...</td>\n",
       "    </tr>\n",
       "    <tr>\n",
       "      <th>87</th>\n",
       "      <td>3.5 Crore</td>\n",
       "      <td>Wapda Town Phase 1 - Block H1, Wapda Town Phase 1</td>\n",
       "      <td>2 Kanal</td>\n",
       "    </tr>\n",
       "    <tr>\n",
       "      <th>88</th>\n",
       "      <td>7 Crore</td>\n",
       "      <td>Wapda Town Phase 1 - Block D2, Wapda Town Phase 1</td>\n",
       "      <td>2 Kanal</td>\n",
       "    </tr>\n",
       "    <tr>\n",
       "      <th>89</th>\n",
       "      <td>3 Crore</td>\n",
       "      <td>Wapda Town Extension, Wapda Town</td>\n",
       "      <td>1 Kanal</td>\n",
       "    </tr>\n",
       "    <tr>\n",
       "      <th>90</th>\n",
       "      <td>2.4 Crore</td>\n",
       "      <td>Wapda Town Extension, Wapda Town</td>\n",
       "      <td>1 Kanal</td>\n",
       "    </tr>\n",
       "    <tr>\n",
       "      <th>91</th>\n",
       "      <td>3.5 Crore</td>\n",
       "      <td>Wapda Town Phase 1 - Block J1, Wapda Town Phase 1</td>\n",
       "      <td>1.1 Kanal</td>\n",
       "    </tr>\n",
       "  </tbody>\n",
       "</table>\n",
       "<p>92 rows × 3 columns</p>\n",
       "</div>"
      ],
      "text/plain": [
       "         Price                                           Location       Area\n",
       "0    3.3 Crore  Wapda Town Phase 1 - Block E1, Wapda Town Phase 1    1 Kanal\n",
       "1   3.55 Crore  Wapda Town Phase 1 - Block F1, Wapda Town Phase 1    1 Kanal\n",
       "2    3.4 Crore  Wapda Town Phase 1 - Block B4, Wapda Town Phase 1    1 Kanal\n",
       "3   2.17 Crore  Wapda Town Phase 1 - Block K3, Wapda Town Phase 1   10 Marla\n",
       "4   2.27 Crore  Wapda Town Phase 1 - Block F1, Wapda Town Phase 1   10 Marla\n",
       "..         ...                                                ...        ...\n",
       "87   3.5 Crore  Wapda Town Phase 1 - Block H1, Wapda Town Phase 1    2 Kanal\n",
       "88     7 Crore  Wapda Town Phase 1 - Block D2, Wapda Town Phase 1    2 Kanal\n",
       "89     3 Crore                   Wapda Town Extension, Wapda Town    1 Kanal\n",
       "90   2.4 Crore                   Wapda Town Extension, Wapda Town    1 Kanal\n",
       "91   3.5 Crore  Wapda Town Phase 1 - Block J1, Wapda Town Phase 1  1.1 Kanal\n",
       "\n",
       "[92 rows x 3 columns]"
      ]
     },
     "execution_count": 12,
     "metadata": {},
     "output_type": "execute_result"
    }
   ],
   "source": [
    "df"
   ]
  },
  {
   "cell_type": "code",
   "execution_count": 18,
   "id": "fed81240",
   "metadata": {},
   "outputs": [
    {
     "data": {
      "text/plain": [
       "4"
      ]
     },
     "execution_count": 18,
     "metadata": {},
     "output_type": "execute_result"
    }
   ],
   "source": [
    "df['Location'].isnull().sum()"
   ]
  },
  {
   "cell_type": "code",
   "execution_count": 30,
   "id": "b257eadb",
   "metadata": {},
   "outputs": [],
   "source": [
    "df.drop(['Price'],axis = 1, inplace = True)"
   ]
  },
  {
   "cell_type": "code",
   "execution_count": 31,
   "id": "35be9825",
   "metadata": {},
   "outputs": [
    {
     "data": {
      "text/html": [
       "<div>\n",
       "<style scoped>\n",
       "    .dataframe tbody tr th:only-of-type {\n",
       "        vertical-align: middle;\n",
       "    }\n",
       "\n",
       "    .dataframe tbody tr th {\n",
       "        vertical-align: top;\n",
       "    }\n",
       "\n",
       "    .dataframe thead th {\n",
       "        text-align: right;\n",
       "    }\n",
       "</style>\n",
       "<table border=\"1\" class=\"dataframe\">\n",
       "  <thead>\n",
       "    <tr style=\"text-align: right;\">\n",
       "      <th></th>\n",
       "      <th>Location</th>\n",
       "    </tr>\n",
       "  </thead>\n",
       "  <tbody>\n",
       "    <tr>\n",
       "      <th>0</th>\n",
       "      <td>Wapda Town Phase 1 - Block E1, Wapda Town Phase 1</td>\n",
       "    </tr>\n",
       "    <tr>\n",
       "      <th>1</th>\n",
       "      <td>Wapda Town Phase 1 - Block F1, Wapda Town Phase 1</td>\n",
       "    </tr>\n",
       "    <tr>\n",
       "      <th>2</th>\n",
       "      <td>Wapda Town Phase 1 - Block B4, Wapda Town Phase 1</td>\n",
       "    </tr>\n",
       "    <tr>\n",
       "      <th>3</th>\n",
       "      <td>Wapda Town Phase 1 - Block K3, Wapda Town Phase 1</td>\n",
       "    </tr>\n",
       "    <tr>\n",
       "      <th>5</th>\n",
       "      <td>Wapda Town Phase 2 - Block Q1, Wapda Town Phase 2</td>\n",
       "    </tr>\n",
       "    <tr>\n",
       "      <th>...</th>\n",
       "      <td>...</td>\n",
       "    </tr>\n",
       "    <tr>\n",
       "      <th>87</th>\n",
       "      <td>Wapda Town Phase 1 - Block H1, Wapda Town Phase 1</td>\n",
       "    </tr>\n",
       "    <tr>\n",
       "      <th>88</th>\n",
       "      <td>Wapda Town Phase 1 - Block D2, Wapda Town Phase 1</td>\n",
       "    </tr>\n",
       "    <tr>\n",
       "      <th>89</th>\n",
       "      <td>Wapda Town Extension, Wapda Town</td>\n",
       "    </tr>\n",
       "    <tr>\n",
       "      <th>90</th>\n",
       "      <td>Wapda Town Extension, Wapda Town</td>\n",
       "    </tr>\n",
       "    <tr>\n",
       "      <th>91</th>\n",
       "      <td>Wapda Town Phase 1 - Block J1, Wapda Town Phase 1</td>\n",
       "    </tr>\n",
       "  </tbody>\n",
       "</table>\n",
       "<p>91 rows × 1 columns</p>\n",
       "</div>"
      ],
      "text/plain": [
       "                                             Location\n",
       "0   Wapda Town Phase 1 - Block E1, Wapda Town Phase 1\n",
       "1   Wapda Town Phase 1 - Block F1, Wapda Town Phase 1\n",
       "2   Wapda Town Phase 1 - Block B4, Wapda Town Phase 1\n",
       "3   Wapda Town Phase 1 - Block K3, Wapda Town Phase 1\n",
       "5   Wapda Town Phase 2 - Block Q1, Wapda Town Phase 2\n",
       "..                                                ...\n",
       "87  Wapda Town Phase 1 - Block H1, Wapda Town Phase 1\n",
       "88  Wapda Town Phase 1 - Block D2, Wapda Town Phase 1\n",
       "89                   Wapda Town Extension, Wapda Town\n",
       "90                   Wapda Town Extension, Wapda Town\n",
       "91  Wapda Town Phase 1 - Block J1, Wapda Town Phase 1\n",
       "\n",
       "[91 rows x 1 columns]"
      ]
     },
     "execution_count": 31,
     "metadata": {},
     "output_type": "execute_result"
    }
   ],
   "source": [
    "df"
   ]
  },
  {
   "cell_type": "code",
   "execution_count": 34,
   "id": "f371f4d0",
   "metadata": {},
   "outputs": [
    {
     "name": "stdout",
     "output_type": "stream",
     "text": [
      "--------Refresh columns without null values-------\n"
     ]
    },
    {
     "data": {
      "text/plain": [
       "Location    4\n",
       "dtype: int64"
      ]
     },
     "execution_count": 34,
     "metadata": {},
     "output_type": "execute_result"
    }
   ],
   "source": [
    "print(\"--------Refresh columns without null values-------\")\n",
    "df.isnull().sum()"
   ]
  },
  {
   "cell_type": "code",
   "execution_count": null,
   "id": "12ffde9a",
   "metadata": {},
   "outputs": [],
   "source": []
  }
 ],
 "metadata": {
  "kernelspec": {
   "display_name": "Python 3 (ipykernel)",
   "language": "python",
   "name": "python3"
  },
  "language_info": {
   "codemirror_mode": {
    "name": "ipython",
    "version": 3
   },
   "file_extension": ".py",
   "mimetype": "text/x-python",
   "name": "python",
   "nbconvert_exporter": "python",
   "pygments_lexer": "ipython3",
   "version": "3.11.5"
  }
 },
 "nbformat": 4,
 "nbformat_minor": 5
}
