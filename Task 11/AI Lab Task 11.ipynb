{
 "cells": [
  {
   "cell_type": "markdown",
   "id": "1c3cef2c",
   "metadata": {},
   "source": [
    "# Lahore Plot price prediction Analysis"
   ]
  },
  {
   "cell_type": "markdown",
   "id": "a7ff0730",
   "metadata": {},
   "source": [
    "# Libraries"
   ]
  },
  {
   "cell_type": "code",
   "execution_count": 29,
   "id": "75830dd4",
   "metadata": {},
   "outputs": [],
   "source": [
    "import pandas as pd\n",
    "import numpy as np\n",
    "import pickle\n",
    "\n",
    "from sklearn.svm import SVC\n",
    "from sklearn.metrics import accuracy_score\n",
    "from sklearn.preprocessing import LabelEncoder\n",
    "from sklearn.model_selection import train_test_split"
   ]
  },
  {
   "cell_type": "markdown",
   "id": "659bc669",
   "metadata": {},
   "source": [
    "# Data Loading / Reading"
   ]
  },
  {
   "cell_type": "code",
   "execution_count": null,
   "id": "237ff884",
   "metadata": {},
   "outputs": [],
   "source": [
    "df = pd.read_csv(r\"C:\\Users\\Zain Baig\\Desktop\\3rd Semester\\Data sets for Analysis\\plot_prices.csv\")\n"
   ]
  },
  {
   "cell_type": "code",
   "execution_count": 31,
   "id": "57630bb2",
   "metadata": {},
   "outputs": [
    {
     "data": {
      "text/html": [
       "<div>\n",
       "<style scoped>\n",
       "    .dataframe tbody tr th:only-of-type {\n",
       "        vertical-align: middle;\n",
       "    }\n",
       "\n",
       "    .dataframe tbody tr th {\n",
       "        vertical-align: top;\n",
       "    }\n",
       "\n",
       "    .dataframe thead th {\n",
       "        text-align: right;\n",
       "    }\n",
       "</style>\n",
       "<table border=\"1\" class=\"dataframe\">\n",
       "  <thead>\n",
       "    <tr style=\"text-align: right;\">\n",
       "      <th></th>\n",
       "      <th>Price</th>\n",
       "      <th>Location</th>\n",
       "      <th>Area</th>\n",
       "    </tr>\n",
       "  </thead>\n",
       "  <tbody>\n",
       "    <tr>\n",
       "      <th>0</th>\n",
       "      <td>3.3 Crore</td>\n",
       "      <td>Wapda Town Phase 1 - Block E1, Wapda Town Phase 1</td>\n",
       "      <td>1 Kanal</td>\n",
       "    </tr>\n",
       "    <tr>\n",
       "      <th>1</th>\n",
       "      <td>3.55 Crore</td>\n",
       "      <td>Wapda Town Phase 1 - Block F1, Wapda Town Phase 1</td>\n",
       "      <td>1 Kanal</td>\n",
       "    </tr>\n",
       "    <tr>\n",
       "      <th>2</th>\n",
       "      <td>3.4 Crore</td>\n",
       "      <td>Wapda Town Phase 1 - Block B4, Wapda Town Phase 1</td>\n",
       "      <td>1 Kanal</td>\n",
       "    </tr>\n",
       "    <tr>\n",
       "      <th>3</th>\n",
       "      <td>2.17 Crore</td>\n",
       "      <td>Wapda Town Phase 1 - Block K3, Wapda Town Phase 1</td>\n",
       "      <td>10 Marla</td>\n",
       "    </tr>\n",
       "    <tr>\n",
       "      <th>4</th>\n",
       "      <td>2.27 Crore</td>\n",
       "      <td>Wapda Town Phase 1 - Block F1, Wapda Town Phase 1</td>\n",
       "      <td>10 Marla</td>\n",
       "    </tr>\n",
       "    <tr>\n",
       "      <th>...</th>\n",
       "      <td>...</td>\n",
       "      <td>...</td>\n",
       "      <td>...</td>\n",
       "    </tr>\n",
       "    <tr>\n",
       "      <th>87</th>\n",
       "      <td>3.5 Crore</td>\n",
       "      <td>Wapda Town Phase 1 - Block H1, Wapda Town Phase 1</td>\n",
       "      <td>2 Kanal</td>\n",
       "    </tr>\n",
       "    <tr>\n",
       "      <th>88</th>\n",
       "      <td>7 Crore</td>\n",
       "      <td>Wapda Town Phase 1 - Block D2, Wapda Town Phase 1</td>\n",
       "      <td>2 Kanal</td>\n",
       "    </tr>\n",
       "    <tr>\n",
       "      <th>89</th>\n",
       "      <td>3 Crore</td>\n",
       "      <td>Wapda Town Extension, Wapda Town</td>\n",
       "      <td>1 Kanal</td>\n",
       "    </tr>\n",
       "    <tr>\n",
       "      <th>90</th>\n",
       "      <td>2.4 Crore</td>\n",
       "      <td>Wapda Town Extension, Wapda Town</td>\n",
       "      <td>1 Kanal</td>\n",
       "    </tr>\n",
       "    <tr>\n",
       "      <th>91</th>\n",
       "      <td>3.5 Crore</td>\n",
       "      <td>Wapda Town Phase 1 - Block J1, Wapda Town Phase 1</td>\n",
       "      <td>1.1 Kanal</td>\n",
       "    </tr>\n",
       "  </tbody>\n",
       "</table>\n",
       "<p>92 rows × 3 columns</p>\n",
       "</div>"
      ],
      "text/plain": [
       "         Price                                           Location       Area\n",
       "0    3.3 Crore  Wapda Town Phase 1 - Block E1, Wapda Town Phase 1    1 Kanal\n",
       "1   3.55 Crore  Wapda Town Phase 1 - Block F1, Wapda Town Phase 1    1 Kanal\n",
       "2    3.4 Crore  Wapda Town Phase 1 - Block B4, Wapda Town Phase 1    1 Kanal\n",
       "3   2.17 Crore  Wapda Town Phase 1 - Block K3, Wapda Town Phase 1   10 Marla\n",
       "4   2.27 Crore  Wapda Town Phase 1 - Block F1, Wapda Town Phase 1   10 Marla\n",
       "..         ...                                                ...        ...\n",
       "87   3.5 Crore  Wapda Town Phase 1 - Block H1, Wapda Town Phase 1    2 Kanal\n",
       "88     7 Crore  Wapda Town Phase 1 - Block D2, Wapda Town Phase 1    2 Kanal\n",
       "89     3 Crore                   Wapda Town Extension, Wapda Town    1 Kanal\n",
       "90   2.4 Crore                   Wapda Town Extension, Wapda Town    1 Kanal\n",
       "91   3.5 Crore  Wapda Town Phase 1 - Block J1, Wapda Town Phase 1  1.1 Kanal\n",
       "\n",
       "[92 rows x 3 columns]"
      ]
     },
     "execution_count": 31,
     "metadata": {},
     "output_type": "execute_result"
    }
   ],
   "source": [
    "df"
   ]
  },
  {
   "cell_type": "markdown",
   "id": "4e7cb305",
   "metadata": {},
   "source": [
    "# Data Exploration"
   ]
  },
  {
   "cell_type": "code",
   "execution_count": 32,
   "id": "4516889c",
   "metadata": {},
   "outputs": [
    {
     "name": "stdout",
     "output_type": "stream",
     "text": [
      "Number of rows :92 \n",
      " Number of columns : 3\n"
     ]
    }
   ],
   "source": [
    "print(f\"Number of rows :{df.shape[0]} \\n Number of columns : {df.shape[1]}\")"
   ]
  },
  {
   "cell_type": "code",
   "execution_count": 33,
   "id": "86541048",
   "metadata": {},
   "outputs": [
    {
     "data": {
      "text/plain": [
       "Price       82\n",
       "Location    88\n",
       "Area        90\n",
       "dtype: int64"
      ]
     },
     "execution_count": 33,
     "metadata": {},
     "output_type": "execute_result"
    }
   ],
   "source": [
    "df.count()"
   ]
  },
  {
   "cell_type": "code",
   "execution_count": 34,
   "id": "75ff4e4a",
   "metadata": {},
   "outputs": [
    {
     "data": {
      "text/html": [
       "<div>\n",
       "<style scoped>\n",
       "    .dataframe tbody tr th:only-of-type {\n",
       "        vertical-align: middle;\n",
       "    }\n",
       "\n",
       "    .dataframe tbody tr th {\n",
       "        vertical-align: top;\n",
       "    }\n",
       "\n",
       "    .dataframe thead th {\n",
       "        text-align: right;\n",
       "    }\n",
       "</style>\n",
       "<table border=\"1\" class=\"dataframe\">\n",
       "  <thead>\n",
       "    <tr style=\"text-align: right;\">\n",
       "      <th></th>\n",
       "      <th>Price</th>\n",
       "      <th>Location</th>\n",
       "      <th>Area</th>\n",
       "    </tr>\n",
       "  </thead>\n",
       "  <tbody>\n",
       "    <tr>\n",
       "      <th>count</th>\n",
       "      <td>82</td>\n",
       "      <td>88</td>\n",
       "      <td>90</td>\n",
       "    </tr>\n",
       "    <tr>\n",
       "      <th>unique</th>\n",
       "      <td>51</td>\n",
       "      <td>33</td>\n",
       "      <td>9</td>\n",
       "    </tr>\n",
       "    <tr>\n",
       "      <th>top</th>\n",
       "      <td>3.5 Crore</td>\n",
       "      <td>Wapda Town Phase 1 - Block D2, Wapda Town Phase 1</td>\n",
       "      <td>1 Kanal</td>\n",
       "    </tr>\n",
       "    <tr>\n",
       "      <th>freq</th>\n",
       "      <td>5</td>\n",
       "      <td>8</td>\n",
       "      <td>40</td>\n",
       "    </tr>\n",
       "  </tbody>\n",
       "</table>\n",
       "</div>"
      ],
      "text/plain": [
       "            Price                                           Location     Area\n",
       "count          82                                                 88       90\n",
       "unique         51                                                 33        9\n",
       "top     3.5 Crore  Wapda Town Phase 1 - Block D2, Wapda Town Phase 1  1 Kanal\n",
       "freq            5                                                  8       40"
      ]
     },
     "execution_count": 34,
     "metadata": {},
     "output_type": "execute_result"
    }
   ],
   "source": [
    "df.describe()"
   ]
  },
  {
   "cell_type": "code",
   "execution_count": 35,
   "id": "4b82cd23",
   "metadata": {},
   "outputs": [
    {
     "data": {
      "text/plain": [
       "Price       10\n",
       "Location     4\n",
       "Area         2\n",
       "dtype: int64"
      ]
     },
     "execution_count": 35,
     "metadata": {},
     "output_type": "execute_result"
    }
   ],
   "source": [
    "df.isnull().sum()"
   ]
  },
  {
   "cell_type": "code",
   "execution_count": 36,
   "id": "9d68d37f",
   "metadata": {},
   "outputs": [
    {
     "data": {
      "text/html": [
       "<div>\n",
       "<style scoped>\n",
       "    .dataframe tbody tr th:only-of-type {\n",
       "        vertical-align: middle;\n",
       "    }\n",
       "\n",
       "    .dataframe tbody tr th {\n",
       "        vertical-align: top;\n",
       "    }\n",
       "\n",
       "    .dataframe thead th {\n",
       "        text-align: right;\n",
       "    }\n",
       "</style>\n",
       "<table border=\"1\" class=\"dataframe\">\n",
       "  <thead>\n",
       "    <tr style=\"text-align: right;\">\n",
       "      <th></th>\n",
       "      <th>Price</th>\n",
       "      <th>Location</th>\n",
       "      <th>Area</th>\n",
       "    </tr>\n",
       "  </thead>\n",
       "  <tbody>\n",
       "    <tr>\n",
       "      <th>0</th>\n",
       "      <td>3.3 Crore</td>\n",
       "      <td>Wapda Town Phase 1 - Block E1, Wapda Town Phase 1</td>\n",
       "      <td>1 Kanal</td>\n",
       "    </tr>\n",
       "    <tr>\n",
       "      <th>1</th>\n",
       "      <td>3.55 Crore</td>\n",
       "      <td>Wapda Town Phase 1 - Block F1, Wapda Town Phase 1</td>\n",
       "      <td>1 Kanal</td>\n",
       "    </tr>\n",
       "    <tr>\n",
       "      <th>2</th>\n",
       "      <td>3.4 Crore</td>\n",
       "      <td>Wapda Town Phase 1 - Block B4, Wapda Town Phase 1</td>\n",
       "      <td>1 Kanal</td>\n",
       "    </tr>\n",
       "    <tr>\n",
       "      <th>3</th>\n",
       "      <td>2.17 Crore</td>\n",
       "      <td>Wapda Town Phase 1 - Block K3, Wapda Town Phase 1</td>\n",
       "      <td>10 Marla</td>\n",
       "    </tr>\n",
       "    <tr>\n",
       "      <th>4</th>\n",
       "      <td>2.27 Crore</td>\n",
       "      <td>Wapda Town Phase 1 - Block F1, Wapda Town Phase 1</td>\n",
       "      <td>10 Marla</td>\n",
       "    </tr>\n",
       "    <tr>\n",
       "      <th>5</th>\n",
       "      <td>2.8 Crore</td>\n",
       "      <td>Wapda Town Phase 2 - Block Q1, Wapda Town Phase 2</td>\n",
       "      <td>1 Kanal</td>\n",
       "    </tr>\n",
       "    <tr>\n",
       "      <th>6</th>\n",
       "      <td>3.5 Crore</td>\n",
       "      <td>Wapda Town Phase 1, Wapda Town</td>\n",
       "      <td>1 Kanal</td>\n",
       "    </tr>\n",
       "    <tr>\n",
       "      <th>7</th>\n",
       "      <td>NaN</td>\n",
       "      <td>NaN</td>\n",
       "      <td>10 Marla</td>\n",
       "    </tr>\n",
       "    <tr>\n",
       "      <th>8</th>\n",
       "      <td>2.25 Crore</td>\n",
       "      <td>Wapda Town Phase 2 - Block P3, Wapda Town Phase 2</td>\n",
       "      <td>1 Kanal</td>\n",
       "    </tr>\n",
       "    <tr>\n",
       "      <th>9</th>\n",
       "      <td>5.75 Crore</td>\n",
       "      <td>Wapda Town Phase 1 - Block D2, Wapda Town Phase 1</td>\n",
       "      <td>2 Kanal</td>\n",
       "    </tr>\n",
       "    <tr>\n",
       "      <th>10</th>\n",
       "      <td>1.6 Crore</td>\n",
       "      <td>NaN</td>\n",
       "      <td>10 Marla</td>\n",
       "    </tr>\n",
       "    <tr>\n",
       "      <th>11</th>\n",
       "      <td>3.35 Crore</td>\n",
       "      <td>Wapda Town Phase 2 - Block Q2, Wapda Town Phase 2</td>\n",
       "      <td>1.2 Kanal</td>\n",
       "    </tr>\n",
       "    <tr>\n",
       "      <th>12</th>\n",
       "      <td>1.6 Crore</td>\n",
       "      <td>Wapda Town Phase 1 - Block H4, Wapda Town Phase 1</td>\n",
       "      <td>10 Marla</td>\n",
       "    </tr>\n",
       "    <tr>\n",
       "      <th>13</th>\n",
       "      <td>7.6 Crore</td>\n",
       "      <td>Wapda Town Phase 1 - Block E2, Wapda Town Phase 1</td>\n",
       "      <td>1 Kanal</td>\n",
       "    </tr>\n",
       "    <tr>\n",
       "      <th>14</th>\n",
       "      <td>3.5 Crore</td>\n",
       "      <td>Wapda Town Phase 1 - Block J1, Wapda Town Phase 1</td>\n",
       "      <td>1.1 Kanal</td>\n",
       "    </tr>\n",
       "    <tr>\n",
       "      <th>15</th>\n",
       "      <td>2.6 Crore</td>\n",
       "      <td>NaN</td>\n",
       "      <td>NaN</td>\n",
       "    </tr>\n",
       "    <tr>\n",
       "      <th>16</th>\n",
       "      <td>2.2 Crore</td>\n",
       "      <td>Wapda Town Phase 1, Wapda Town</td>\n",
       "      <td>NaN</td>\n",
       "    </tr>\n",
       "    <tr>\n",
       "      <th>17</th>\n",
       "      <td>NaN</td>\n",
       "      <td>Wapda Town Phase 1 - Block H3, Wapda Town Phase 1</td>\n",
       "      <td>1 Kanal</td>\n",
       "    </tr>\n",
       "    <tr>\n",
       "      <th>18</th>\n",
       "      <td>1.85 Crore</td>\n",
       "      <td>Wapda Town Phase 2, Wapda Town</td>\n",
       "      <td>10 Marla</td>\n",
       "    </tr>\n",
       "    <tr>\n",
       "      <th>19</th>\n",
       "      <td>6.5 Crore</td>\n",
       "      <td>Wapda Town Phase 1 - Block D2, Wapda Town Phase 1</td>\n",
       "      <td>2 Kanal</td>\n",
       "    </tr>\n",
       "  </tbody>\n",
       "</table>\n",
       "</div>"
      ],
      "text/plain": [
       "         Price                                           Location       Area\n",
       "0    3.3 Crore  Wapda Town Phase 1 - Block E1, Wapda Town Phase 1    1 Kanal\n",
       "1   3.55 Crore  Wapda Town Phase 1 - Block F1, Wapda Town Phase 1    1 Kanal\n",
       "2    3.4 Crore  Wapda Town Phase 1 - Block B4, Wapda Town Phase 1    1 Kanal\n",
       "3   2.17 Crore  Wapda Town Phase 1 - Block K3, Wapda Town Phase 1   10 Marla\n",
       "4   2.27 Crore  Wapda Town Phase 1 - Block F1, Wapda Town Phase 1   10 Marla\n",
       "5    2.8 Crore  Wapda Town Phase 2 - Block Q1, Wapda Town Phase 2    1 Kanal\n",
       "6    3.5 Crore                     Wapda Town Phase 1, Wapda Town    1 Kanal\n",
       "7          NaN                                                NaN   10 Marla\n",
       "8   2.25 Crore  Wapda Town Phase 2 - Block P3, Wapda Town Phase 2    1 Kanal\n",
       "9   5.75 Crore  Wapda Town Phase 1 - Block D2, Wapda Town Phase 1    2 Kanal\n",
       "10   1.6 Crore                                                NaN   10 Marla\n",
       "11  3.35 Crore  Wapda Town Phase 2 - Block Q2, Wapda Town Phase 2  1.2 Kanal\n",
       "12   1.6 Crore  Wapda Town Phase 1 - Block H4, Wapda Town Phase 1   10 Marla\n",
       "13   7.6 Crore  Wapda Town Phase 1 - Block E2, Wapda Town Phase 1    1 Kanal\n",
       "14   3.5 Crore  Wapda Town Phase 1 - Block J1, Wapda Town Phase 1  1.1 Kanal\n",
       "15   2.6 Crore                                                NaN        NaN\n",
       "16   2.2 Crore                     Wapda Town Phase 1, Wapda Town        NaN\n",
       "17         NaN  Wapda Town Phase 1 - Block H3, Wapda Town Phase 1    1 Kanal\n",
       "18  1.85 Crore                     Wapda Town Phase 2, Wapda Town   10 Marla\n",
       "19   6.5 Crore  Wapda Town Phase 1 - Block D2, Wapda Town Phase 1    2 Kanal"
      ]
     },
     "execution_count": 36,
     "metadata": {},
     "output_type": "execute_result"
    }
   ],
   "source": [
    "df.head(20)"
   ]
  },
  {
   "cell_type": "code",
   "execution_count": 37,
   "id": "e8b17a53",
   "metadata": {},
   "outputs": [
    {
     "data": {
      "text/html": [
       "<div>\n",
       "<style scoped>\n",
       "    .dataframe tbody tr th:only-of-type {\n",
       "        vertical-align: middle;\n",
       "    }\n",
       "\n",
       "    .dataframe tbody tr th {\n",
       "        vertical-align: top;\n",
       "    }\n",
       "\n",
       "    .dataframe thead th {\n",
       "        text-align: right;\n",
       "    }\n",
       "</style>\n",
       "<table border=\"1\" class=\"dataframe\">\n",
       "  <thead>\n",
       "    <tr style=\"text-align: right;\">\n",
       "      <th></th>\n",
       "      <th>Price</th>\n",
       "      <th>Location</th>\n",
       "      <th>Area</th>\n",
       "    </tr>\n",
       "  </thead>\n",
       "  <tbody>\n",
       "    <tr>\n",
       "      <th>83</th>\n",
       "      <td>2 Crore</td>\n",
       "      <td>Wapda Town Phase 2 - Block N2, Wapda Town Phase 2</td>\n",
       "      <td>10 Marla</td>\n",
       "    </tr>\n",
       "    <tr>\n",
       "      <th>84</th>\n",
       "      <td>1.9 Crore</td>\n",
       "      <td>Wapda Town Phase 2 - Block N3, Wapda Town Phase 2</td>\n",
       "      <td>10 Marla</td>\n",
       "    </tr>\n",
       "    <tr>\n",
       "      <th>85</th>\n",
       "      <td>95 Lakh</td>\n",
       "      <td>Wapda Town Extension, Wapda Town</td>\n",
       "      <td>10 Marla</td>\n",
       "    </tr>\n",
       "    <tr>\n",
       "      <th>86</th>\n",
       "      <td>2.4 Crore</td>\n",
       "      <td>Wapda Town Phase 1 - Block A2, Wapda Town Phase 1</td>\n",
       "      <td>1 Kanal</td>\n",
       "    </tr>\n",
       "    <tr>\n",
       "      <th>87</th>\n",
       "      <td>3.5 Crore</td>\n",
       "      <td>Wapda Town Phase 1 - Block H1, Wapda Town Phase 1</td>\n",
       "      <td>2 Kanal</td>\n",
       "    </tr>\n",
       "    <tr>\n",
       "      <th>88</th>\n",
       "      <td>7 Crore</td>\n",
       "      <td>Wapda Town Phase 1 - Block D2, Wapda Town Phase 1</td>\n",
       "      <td>2 Kanal</td>\n",
       "    </tr>\n",
       "    <tr>\n",
       "      <th>89</th>\n",
       "      <td>3 Crore</td>\n",
       "      <td>Wapda Town Extension, Wapda Town</td>\n",
       "      <td>1 Kanal</td>\n",
       "    </tr>\n",
       "    <tr>\n",
       "      <th>90</th>\n",
       "      <td>2.4 Crore</td>\n",
       "      <td>Wapda Town Extension, Wapda Town</td>\n",
       "      <td>1 Kanal</td>\n",
       "    </tr>\n",
       "    <tr>\n",
       "      <th>91</th>\n",
       "      <td>3.5 Crore</td>\n",
       "      <td>Wapda Town Phase 1 - Block J1, Wapda Town Phase 1</td>\n",
       "      <td>1.1 Kanal</td>\n",
       "    </tr>\n",
       "  </tbody>\n",
       "</table>\n",
       "</div>"
      ],
      "text/plain": [
       "        Price                                           Location       Area\n",
       "83    2 Crore  Wapda Town Phase 2 - Block N2, Wapda Town Phase 2   10 Marla\n",
       "84  1.9 Crore  Wapda Town Phase 2 - Block N3, Wapda Town Phase 2   10 Marla\n",
       "85    95 Lakh                   Wapda Town Extension, Wapda Town   10 Marla\n",
       "86  2.4 Crore  Wapda Town Phase 1 - Block A2, Wapda Town Phase 1    1 Kanal\n",
       "87  3.5 Crore  Wapda Town Phase 1 - Block H1, Wapda Town Phase 1    2 Kanal\n",
       "88    7 Crore  Wapda Town Phase 1 - Block D2, Wapda Town Phase 1    2 Kanal\n",
       "89    3 Crore                   Wapda Town Extension, Wapda Town    1 Kanal\n",
       "90  2.4 Crore                   Wapda Town Extension, Wapda Town    1 Kanal\n",
       "91  3.5 Crore  Wapda Town Phase 1 - Block J1, Wapda Town Phase 1  1.1 Kanal"
      ]
     },
     "execution_count": 37,
     "metadata": {},
     "output_type": "execute_result"
    }
   ],
   "source": [
    "df.tail(9)"
   ]
  },
  {
   "cell_type": "code",
   "execution_count": 38,
   "id": "514f7098",
   "metadata": {},
   "outputs": [
    {
     "name": "stdout",
     "output_type": "stream",
     "text": [
      "<class 'pandas.core.frame.DataFrame'>\n",
      "RangeIndex: 92 entries, 0 to 91\n",
      "Data columns (total 3 columns):\n",
      " #   Column    Non-Null Count  Dtype \n",
      "---  ------    --------------  ----- \n",
      " 0   Price     82 non-null     object\n",
      " 1   Location  88 non-null     object\n",
      " 2   Area      90 non-null     object\n",
      "dtypes: object(3)\n",
      "memory usage: 2.3+ KB\n"
     ]
    }
   ],
   "source": [
    "df.info()"
   ]
  },
  {
   "cell_type": "code",
   "execution_count": 39,
   "id": "73d337c7",
   "metadata": {},
   "outputs": [
    {
     "name": "stdout",
     "output_type": "stream",
     "text": [
      "Price\n",
      "Location\n",
      "Area\n"
     ]
    }
   ],
   "source": [
    "for i in df.columns:\n",
    "    print(i)"
   ]
  },
  {
   "cell_type": "code",
   "execution_count": 40,
   "id": "2ad3d7a7",
   "metadata": {},
   "outputs": [
    {
     "data": {
      "text/plain": [
       "array(['Wapda Town Phase 1 - Block E1, Wapda Town Phase 1',\n",
       "       'Wapda Town Phase 1 - Block F1, Wapda Town Phase 1',\n",
       "       'Wapda Town Phase 1 - Block B4, Wapda Town Phase 1',\n",
       "       'Wapda Town Phase 1 - Block K3, Wapda Town Phase 1',\n",
       "       'Wapda Town Phase 2 - Block Q1, Wapda Town Phase 2',\n",
       "       'Wapda Town Phase 1, Wapda Town', nan,\n",
       "       'Wapda Town Phase 2 - Block P3, Wapda Town Phase 2',\n",
       "       'Wapda Town Phase 1 - Block D2, Wapda Town Phase 1',\n",
       "       'Wapda Town Phase 2 - Block Q2, Wapda Town Phase 2',\n",
       "       'Wapda Town Phase 1 - Block H4, Wapda Town Phase 1',\n",
       "       'Wapda Town Phase 1 - Block E2, Wapda Town Phase 1',\n",
       "       'Wapda Town Phase 1 - Block J1, Wapda Town Phase 1',\n",
       "       'Wapda Town Phase 1 - Block H3, Wapda Town Phase 1',\n",
       "       'Wapda Town Phase 2, Wapda Town',\n",
       "       'Wapda Town Phase 1 - Block A2, Wapda Town Phase 1',\n",
       "       'Wapda Town, Lahore',\n",
       "       'Wapda Town Phase 1 - Block H2, Wapda Town Phase 1',\n",
       "       'Wapda Town Phase 1 - Block K1, Wapda Town Phase 1',\n",
       "       'Wapda Town Phase 1 - Block G2, Wapda Town Phase 1',\n",
       "       'Wapda Town Phase 1 - Block J2, Wapda Town Phase 1',\n",
       "       'Wapda Town Phase 1 - Block A1, Wapda Town Phase 1',\n",
       "       'Wapda Town Phase 2 - Block N3, Wapda Town Phase 2',\n",
       "       'Wapda Town Phase 2 - Block N2, Wapda Town Phase 2',\n",
       "       'Wapda Town Phase 2 - Block P1, Wapda Town Phase 2',\n",
       "       'Wapda Town Phase 2 - Block P2, Wapda Town Phase 2',\n",
       "       'Wapda Town Phase 1 - Block H1, Wapda Town Phase 1',\n",
       "       'Wapda Town Phase 2 - Block N1, Wapda Town Phase 2',\n",
       "       'Wapda Town Phase 1 - Block G3, Wapda Town Phase 1',\n",
       "       'Wapda Town Phase 1 - Block A3, Wapda Town Phase 1',\n",
       "       'Wapda Town Phase 1 - Block G5, Wapda Town Phase 1',\n",
       "       'Wapda Town Phase 1 - Block D3, Wapda Town Phase 1',\n",
       "       'Wapda Town Phase 2 - Block M, Wapda Town Phase 2',\n",
       "       'Wapda Town Extension, Wapda Town'], dtype=object)"
      ]
     },
     "execution_count": 40,
     "metadata": {},
     "output_type": "execute_result"
    }
   ],
   "source": [
    "df['Location'].unique()"
   ]
  },
  {
   "cell_type": "code",
   "execution_count": 41,
   "id": "e505ccde",
   "metadata": {},
   "outputs": [
    {
     "data": {
      "text/plain": [
       "array(['3.3 Crore', '3.55 Crore', '3.4 Crore', '2.17 Crore', '2.27 Crore',\n",
       "       '2.8 Crore', '3.5 Crore', nan, '2.25 Crore', '5.75 Crore',\n",
       "       '1.6 Crore', '3.35 Crore', '7.6 Crore', '2.6 Crore', '2.2 Crore',\n",
       "       '1.85 Crore', '6.5 Crore', '2.9 Crore', '8.5 Crore', '2.5 Crore',\n",
       "       '3.15 Crore', '4.25 Crore', '8 Crore', '3.2 Crore', '1.45 Crore',\n",
       "       '2 Crore', '3.25 Crore', '1.75 Crore', '1.9 Crore', '6.75 Crore',\n",
       "       '5.5 Crore', '4 Crore', '2.55 Crore', '2.45 Crore', '3.6 Crore',\n",
       "       '1.65 Crore', '4.5 Crore', '2.3 Crore', '1.38 Crore', '3.75 Crore',\n",
       "       '5.25 Crore', '70 Lakh', '1.3 Crore', '6 Crore', '3.1 Crore',\n",
       "       '1.2 Crore', '10 Crore', '5 Crore', '95 Lakh', '2.4 Crore',\n",
       "       '7 Crore', '3 Crore'], dtype=object)"
      ]
     },
     "execution_count": 41,
     "metadata": {},
     "output_type": "execute_result"
    }
   ],
   "source": [
    "df['Price'].unique()"
   ]
  },
  {
   "cell_type": "code",
   "execution_count": 42,
   "id": "1e14b7fd",
   "metadata": {},
   "outputs": [
    {
     "data": {
      "text/plain": [
       "Price       51\n",
       "Location    33\n",
       "Area         9\n",
       "dtype: int64"
      ]
     },
     "execution_count": 42,
     "metadata": {},
     "output_type": "execute_result"
    }
   ],
   "source": [
    "df.nunique()"
   ]
  },
  {
   "cell_type": "markdown",
   "id": "d6cf94fe",
   "metadata": {},
   "source": [
    "# Data Preprocessing"
   ]
  },
  {
   "cell_type": "code",
   "execution_count": 43,
   "id": "8cb2a129",
   "metadata": {},
   "outputs": [
    {
     "data": {
      "text/html": [
       "<div>\n",
       "<style scoped>\n",
       "    .dataframe tbody tr th:only-of-type {\n",
       "        vertical-align: middle;\n",
       "    }\n",
       "\n",
       "    .dataframe tbody tr th {\n",
       "        vertical-align: top;\n",
       "    }\n",
       "\n",
       "    .dataframe thead th {\n",
       "        text-align: right;\n",
       "    }\n",
       "</style>\n",
       "<table border=\"1\" class=\"dataframe\">\n",
       "  <thead>\n",
       "    <tr style=\"text-align: right;\">\n",
       "      <th></th>\n",
       "      <th>Price</th>\n",
       "      <th>Location</th>\n",
       "      <th>Area</th>\n",
       "    </tr>\n",
       "  </thead>\n",
       "  <tbody>\n",
       "    <tr>\n",
       "      <th>0</th>\n",
       "      <td>3.3 Crore</td>\n",
       "      <td>Wapda Town Phase 1 - Block E1, Wapda Town Phase 1</td>\n",
       "      <td>1 Kanal</td>\n",
       "    </tr>\n",
       "    <tr>\n",
       "      <th>1</th>\n",
       "      <td>3.55 Crore</td>\n",
       "      <td>Wapda Town Phase 1 - Block F1, Wapda Town Phase 1</td>\n",
       "      <td>1 Kanal</td>\n",
       "    </tr>\n",
       "    <tr>\n",
       "      <th>2</th>\n",
       "      <td>3.4 Crore</td>\n",
       "      <td>Wapda Town Phase 1 - Block B4, Wapda Town Phase 1</td>\n",
       "      <td>1 Kanal</td>\n",
       "    </tr>\n",
       "    <tr>\n",
       "      <th>3</th>\n",
       "      <td>2.17 Crore</td>\n",
       "      <td>Wapda Town Phase 1 - Block K3, Wapda Town Phase 1</td>\n",
       "      <td>10 Marla</td>\n",
       "    </tr>\n",
       "    <tr>\n",
       "      <th>4</th>\n",
       "      <td>2.27 Crore</td>\n",
       "      <td>Wapda Town Phase 1 - Block F1, Wapda Town Phase 1</td>\n",
       "      <td>10 Marla</td>\n",
       "    </tr>\n",
       "    <tr>\n",
       "      <th>...</th>\n",
       "      <td>...</td>\n",
       "      <td>...</td>\n",
       "      <td>...</td>\n",
       "    </tr>\n",
       "    <tr>\n",
       "      <th>87</th>\n",
       "      <td>3.5 Crore</td>\n",
       "      <td>Wapda Town Phase 1 - Block H1, Wapda Town Phase 1</td>\n",
       "      <td>2 Kanal</td>\n",
       "    </tr>\n",
       "    <tr>\n",
       "      <th>88</th>\n",
       "      <td>7 Crore</td>\n",
       "      <td>Wapda Town Phase 1 - Block D2, Wapda Town Phase 1</td>\n",
       "      <td>2 Kanal</td>\n",
       "    </tr>\n",
       "    <tr>\n",
       "      <th>89</th>\n",
       "      <td>3 Crore</td>\n",
       "      <td>Wapda Town Extension, Wapda Town</td>\n",
       "      <td>1 Kanal</td>\n",
       "    </tr>\n",
       "    <tr>\n",
       "      <th>90</th>\n",
       "      <td>2.4 Crore</td>\n",
       "      <td>Wapda Town Extension, Wapda Town</td>\n",
       "      <td>1 Kanal</td>\n",
       "    </tr>\n",
       "    <tr>\n",
       "      <th>91</th>\n",
       "      <td>3.5 Crore</td>\n",
       "      <td>Wapda Town Phase 1 - Block J1, Wapda Town Phase 1</td>\n",
       "      <td>1.1 Kanal</td>\n",
       "    </tr>\n",
       "  </tbody>\n",
       "</table>\n",
       "<p>92 rows × 3 columns</p>\n",
       "</div>"
      ],
      "text/plain": [
       "         Price                                           Location       Area\n",
       "0    3.3 Crore  Wapda Town Phase 1 - Block E1, Wapda Town Phase 1    1 Kanal\n",
       "1   3.55 Crore  Wapda Town Phase 1 - Block F1, Wapda Town Phase 1    1 Kanal\n",
       "2    3.4 Crore  Wapda Town Phase 1 - Block B4, Wapda Town Phase 1    1 Kanal\n",
       "3   2.17 Crore  Wapda Town Phase 1 - Block K3, Wapda Town Phase 1   10 Marla\n",
       "4   2.27 Crore  Wapda Town Phase 1 - Block F1, Wapda Town Phase 1   10 Marla\n",
       "..         ...                                                ...        ...\n",
       "87   3.5 Crore  Wapda Town Phase 1 - Block H1, Wapda Town Phase 1    2 Kanal\n",
       "88     7 Crore  Wapda Town Phase 1 - Block D2, Wapda Town Phase 1    2 Kanal\n",
       "89     3 Crore                   Wapda Town Extension, Wapda Town    1 Kanal\n",
       "90   2.4 Crore                   Wapda Town Extension, Wapda Town    1 Kanal\n",
       "91   3.5 Crore  Wapda Town Phase 1 - Block J1, Wapda Town Phase 1  1.1 Kanal\n",
       "\n",
       "[92 rows x 3 columns]"
      ]
     },
     "execution_count": 43,
     "metadata": {},
     "output_type": "execute_result"
    }
   ],
   "source": [
    "df"
   ]
  },
  {
   "cell_type": "code",
   "execution_count": 44,
   "id": "fed81240",
   "metadata": {},
   "outputs": [
    {
     "data": {
      "text/plain": [
       "4"
      ]
     },
     "execution_count": 44,
     "metadata": {},
     "output_type": "execute_result"
    }
   ],
   "source": [
    "df['Location'].isnull().sum()"
   ]
  },
  {
   "cell_type": "code",
   "execution_count": 45,
   "id": "b257eadb",
   "metadata": {},
   "outputs": [],
   "source": [
    "df.drop(['Price'],axis = 1, inplace = True)"
   ]
  },
  {
   "cell_type": "code",
   "execution_count": 46,
   "id": "35be9825",
   "metadata": {},
   "outputs": [
    {
     "data": {
      "text/html": [
       "<div>\n",
       "<style scoped>\n",
       "    .dataframe tbody tr th:only-of-type {\n",
       "        vertical-align: middle;\n",
       "    }\n",
       "\n",
       "    .dataframe tbody tr th {\n",
       "        vertical-align: top;\n",
       "    }\n",
       "\n",
       "    .dataframe thead th {\n",
       "        text-align: right;\n",
       "    }\n",
       "</style>\n",
       "<table border=\"1\" class=\"dataframe\">\n",
       "  <thead>\n",
       "    <tr style=\"text-align: right;\">\n",
       "      <th></th>\n",
       "      <th>Location</th>\n",
       "      <th>Area</th>\n",
       "    </tr>\n",
       "  </thead>\n",
       "  <tbody>\n",
       "    <tr>\n",
       "      <th>0</th>\n",
       "      <td>Wapda Town Phase 1 - Block E1, Wapda Town Phase 1</td>\n",
       "      <td>1 Kanal</td>\n",
       "    </tr>\n",
       "    <tr>\n",
       "      <th>1</th>\n",
       "      <td>Wapda Town Phase 1 - Block F1, Wapda Town Phase 1</td>\n",
       "      <td>1 Kanal</td>\n",
       "    </tr>\n",
       "    <tr>\n",
       "      <th>2</th>\n",
       "      <td>Wapda Town Phase 1 - Block B4, Wapda Town Phase 1</td>\n",
       "      <td>1 Kanal</td>\n",
       "    </tr>\n",
       "    <tr>\n",
       "      <th>3</th>\n",
       "      <td>Wapda Town Phase 1 - Block K3, Wapda Town Phase 1</td>\n",
       "      <td>10 Marla</td>\n",
       "    </tr>\n",
       "    <tr>\n",
       "      <th>4</th>\n",
       "      <td>Wapda Town Phase 1 - Block F1, Wapda Town Phase 1</td>\n",
       "      <td>10 Marla</td>\n",
       "    </tr>\n",
       "    <tr>\n",
       "      <th>...</th>\n",
       "      <td>...</td>\n",
       "      <td>...</td>\n",
       "    </tr>\n",
       "    <tr>\n",
       "      <th>87</th>\n",
       "      <td>Wapda Town Phase 1 - Block H1, Wapda Town Phase 1</td>\n",
       "      <td>2 Kanal</td>\n",
       "    </tr>\n",
       "    <tr>\n",
       "      <th>88</th>\n",
       "      <td>Wapda Town Phase 1 - Block D2, Wapda Town Phase 1</td>\n",
       "      <td>2 Kanal</td>\n",
       "    </tr>\n",
       "    <tr>\n",
       "      <th>89</th>\n",
       "      <td>Wapda Town Extension, Wapda Town</td>\n",
       "      <td>1 Kanal</td>\n",
       "    </tr>\n",
       "    <tr>\n",
       "      <th>90</th>\n",
       "      <td>Wapda Town Extension, Wapda Town</td>\n",
       "      <td>1 Kanal</td>\n",
       "    </tr>\n",
       "    <tr>\n",
       "      <th>91</th>\n",
       "      <td>Wapda Town Phase 1 - Block J1, Wapda Town Phase 1</td>\n",
       "      <td>1.1 Kanal</td>\n",
       "    </tr>\n",
       "  </tbody>\n",
       "</table>\n",
       "<p>92 rows × 2 columns</p>\n",
       "</div>"
      ],
      "text/plain": [
       "                                             Location       Area\n",
       "0   Wapda Town Phase 1 - Block E1, Wapda Town Phase 1    1 Kanal\n",
       "1   Wapda Town Phase 1 - Block F1, Wapda Town Phase 1    1 Kanal\n",
       "2   Wapda Town Phase 1 - Block B4, Wapda Town Phase 1    1 Kanal\n",
       "3   Wapda Town Phase 1 - Block K3, Wapda Town Phase 1   10 Marla\n",
       "4   Wapda Town Phase 1 - Block F1, Wapda Town Phase 1   10 Marla\n",
       "..                                                ...        ...\n",
       "87  Wapda Town Phase 1 - Block H1, Wapda Town Phase 1    2 Kanal\n",
       "88  Wapda Town Phase 1 - Block D2, Wapda Town Phase 1    2 Kanal\n",
       "89                   Wapda Town Extension, Wapda Town    1 Kanal\n",
       "90                   Wapda Town Extension, Wapda Town    1 Kanal\n",
       "91  Wapda Town Phase 1 - Block J1, Wapda Town Phase 1  1.1 Kanal\n",
       "\n",
       "[92 rows x 2 columns]"
      ]
     },
     "execution_count": 46,
     "metadata": {},
     "output_type": "execute_result"
    }
   ],
   "source": [
    "df"
   ]
  },
  {
   "cell_type": "code",
   "execution_count": 47,
   "id": "25d14774",
   "metadata": {},
   "outputs": [],
   "source": [
    "df_encoded = df.copy()"
   ]
  },
  {
   "cell_type": "code",
   "execution_count": 48,
   "id": "5186767a",
   "metadata": {},
   "outputs": [],
   "source": [
    "def encodeCols(cols):\n",
    "    for i in cols:\n",
    "        data = pd.DataFrame({i:df[i].unique()})\n",
    "        data_label_encoder = LabelEncoder()\n",
    "        data_label_encoder.fit(np.ravel(data))\n",
    "        df_encoded[i] = data_label_encoder.transform(df[i]) \n",
    "\n",
    "columns = ['Location','Area']\n",
    "encodeCols(columns)"
   ]
  },
  {
   "cell_type": "code",
   "execution_count": 49,
   "id": "bef1e182",
   "metadata": {},
   "outputs": [
    {
     "name": "stdout",
     "output_type": "stream",
     "text": [
      "<class 'pandas.core.frame.DataFrame'>\n",
      "RangeIndex: 92 entries, 0 to 91\n",
      "Data columns (total 2 columns):\n",
      " #   Column    Non-Null Count  Dtype\n",
      "---  ------    --------------  -----\n",
      " 0   Location  92 non-null     int32\n",
      " 1   Area      92 non-null     int32\n",
      "dtypes: int32(2)\n",
      "memory usage: 868.0 bytes\n"
     ]
    }
   ],
   "source": [
    "df_encoded.info()"
   ]
  },
  {
   "cell_type": "code",
   "execution_count": 50,
   "id": "57974b19",
   "metadata": {},
   "outputs": [],
   "source": [
    "df_encoded.to_csv(r'encoded-data.csv', index = False, header = True)"
   ]
  },
  {
   "cell_type": "markdown",
   "id": "1cc61535",
   "metadata": {},
   "source": [
    "# Train Test Splitting"
   ]
  },
  {
   "cell_type": "code",
   "execution_count": 51,
   "id": "7a3cbafb",
   "metadata": {},
   "outputs": [],
   "source": [
    "traindata , testdata = train_test_split(df_encoded, test_size= 0.2 , shuffle = False)"
   ]
  },
  {
   "cell_type": "code",
   "execution_count": 52,
   "id": "6dc94ee2",
   "metadata": {},
   "outputs": [
    {
     "data": {
      "text/html": [
       "<div>\n",
       "<style scoped>\n",
       "    .dataframe tbody tr th:only-of-type {\n",
       "        vertical-align: middle;\n",
       "    }\n",
       "\n",
       "    .dataframe tbody tr th {\n",
       "        vertical-align: top;\n",
       "    }\n",
       "\n",
       "    .dataframe thead th {\n",
       "        text-align: right;\n",
       "    }\n",
       "</style>\n",
       "<table border=\"1\" class=\"dataframe\">\n",
       "  <thead>\n",
       "    <tr style=\"text-align: right;\">\n",
       "      <th></th>\n",
       "      <th>Location</th>\n",
       "      <th>Area</th>\n",
       "    </tr>\n",
       "  </thead>\n",
       "  <tbody>\n",
       "    <tr>\n",
       "      <th>0</th>\n",
       "      <td>7</td>\n",
       "      <td>0</td>\n",
       "    </tr>\n",
       "    <tr>\n",
       "      <th>1</th>\n",
       "      <td>9</td>\n",
       "      <td>0</td>\n",
       "    </tr>\n",
       "    <tr>\n",
       "      <th>2</th>\n",
       "      <td>4</td>\n",
       "      <td>0</td>\n",
       "    </tr>\n",
       "    <tr>\n",
       "      <th>3</th>\n",
       "      <td>20</td>\n",
       "      <td>4</td>\n",
       "    </tr>\n",
       "    <tr>\n",
       "      <th>4</th>\n",
       "      <td>9</td>\n",
       "      <td>4</td>\n",
       "    </tr>\n",
       "  </tbody>\n",
       "</table>\n",
       "</div>"
      ],
      "text/plain": [
       "   Location  Area\n",
       "0         7     0\n",
       "1         9     0\n",
       "2         4     0\n",
       "3        20     4\n",
       "4         9     4"
      ]
     },
     "execution_count": 52,
     "metadata": {},
     "output_type": "execute_result"
    }
   ],
   "source": [
    "traindata.head(5)"
   ]
  },
  {
   "cell_type": "code",
   "execution_count": 53,
   "id": "2557e455",
   "metadata": {},
   "outputs": [
    {
     "data": {
      "text/html": [
       "<div>\n",
       "<style scoped>\n",
       "    .dataframe tbody tr th:only-of-type {\n",
       "        vertical-align: middle;\n",
       "    }\n",
       "\n",
       "    .dataframe tbody tr th {\n",
       "        vertical-align: top;\n",
       "    }\n",
       "\n",
       "    .dataframe thead th {\n",
       "        text-align: right;\n",
       "    }\n",
       "</style>\n",
       "<table border=\"1\" class=\"dataframe\">\n",
       "  <thead>\n",
       "    <tr style=\"text-align: right;\">\n",
       "      <th></th>\n",
       "      <th>Location</th>\n",
       "      <th>Area</th>\n",
       "    </tr>\n",
       "  </thead>\n",
       "  <tbody>\n",
       "    <tr>\n",
       "      <th>73</th>\n",
       "      <td>12</td>\n",
       "      <td>8</td>\n",
       "    </tr>\n",
       "    <tr>\n",
       "      <th>74</th>\n",
       "      <td>8</td>\n",
       "      <td>0</td>\n",
       "    </tr>\n",
       "    <tr>\n",
       "      <th>75</th>\n",
       "      <td>21</td>\n",
       "      <td>0</td>\n",
       "    </tr>\n",
       "    <tr>\n",
       "      <th>76</th>\n",
       "      <td>29</td>\n",
       "      <td>4</td>\n",
       "    </tr>\n",
       "    <tr>\n",
       "      <th>77</th>\n",
       "      <td>1</td>\n",
       "      <td>2</td>\n",
       "    </tr>\n",
       "  </tbody>\n",
       "</table>\n",
       "</div>"
      ],
      "text/plain": [
       "    Location  Area\n",
       "73        12     8\n",
       "74         8     0\n",
       "75        21     0\n",
       "76        29     4\n",
       "77         1     2"
      ]
     },
     "execution_count": 53,
     "metadata": {},
     "output_type": "execute_result"
    }
   ],
   "source": [
    "testdata.head(5)"
   ]
  },
  {
   "cell_type": "code",
   "execution_count": 54,
   "id": "03f47731",
   "metadata": {},
   "outputs": [
    {
     "data": {
      "text/html": [
       "<div>\n",
       "<style scoped>\n",
       "    .dataframe tbody tr th:only-of-type {\n",
       "        vertical-align: middle;\n",
       "    }\n",
       "\n",
       "    .dataframe tbody tr th {\n",
       "        vertical-align: top;\n",
       "    }\n",
       "\n",
       "    .dataframe thead th {\n",
       "        text-align: right;\n",
       "    }\n",
       "</style>\n",
       "<table border=\"1\" class=\"dataframe\">\n",
       "  <thead>\n",
       "    <tr style=\"text-align: right;\">\n",
       "      <th></th>\n",
       "      <th>Area</th>\n",
       "    </tr>\n",
       "  </thead>\n",
       "  <tbody>\n",
       "    <tr>\n",
       "      <th>0</th>\n",
       "      <td>0</td>\n",
       "    </tr>\n",
       "    <tr>\n",
       "      <th>1</th>\n",
       "      <td>0</td>\n",
       "    </tr>\n",
       "    <tr>\n",
       "      <th>2</th>\n",
       "      <td>0</td>\n",
       "    </tr>\n",
       "    <tr>\n",
       "      <th>3</th>\n",
       "      <td>4</td>\n",
       "    </tr>\n",
       "    <tr>\n",
       "      <th>4</th>\n",
       "      <td>4</td>\n",
       "    </tr>\n",
       "  </tbody>\n",
       "</table>\n",
       "</div>"
      ],
      "text/plain": [
       "   Area\n",
       "0     0\n",
       "1     0\n",
       "2     0\n",
       "3     4\n",
       "4     4"
      ]
     },
     "execution_count": 54,
     "metadata": {},
     "output_type": "execute_result"
    }
   ],
   "source": [
    "train_x = traindata.iloc[:, 1:]\n",
    "train_x.head()"
   ]
  },
  {
   "cell_type": "code",
   "execution_count": 55,
   "id": "87c896a1",
   "metadata": {},
   "outputs": [
    {
     "data": {
      "text/plain": [
       "0     7\n",
       "1     9\n",
       "2     4\n",
       "3    20\n",
       "4     9\n",
       "Name: Location, dtype: int32"
      ]
     },
     "execution_count": 55,
     "metadata": {},
     "output_type": "execute_result"
    }
   ],
   "source": [
    "train_y = traindata.iloc[:, 0]\n",
    "train_y.head()"
   ]
  },
  {
   "cell_type": "code",
   "execution_count": 56,
   "id": "778beb5a",
   "metadata": {},
   "outputs": [
    {
     "data": {
      "text/html": [
       "<div>\n",
       "<style scoped>\n",
       "    .dataframe tbody tr th:only-of-type {\n",
       "        vertical-align: middle;\n",
       "    }\n",
       "\n",
       "    .dataframe tbody tr th {\n",
       "        vertical-align: top;\n",
       "    }\n",
       "\n",
       "    .dataframe thead th {\n",
       "        text-align: right;\n",
       "    }\n",
       "</style>\n",
       "<table border=\"1\" class=\"dataframe\">\n",
       "  <thead>\n",
       "    <tr style=\"text-align: right;\">\n",
       "      <th></th>\n",
       "      <th>Area</th>\n",
       "    </tr>\n",
       "  </thead>\n",
       "  <tbody>\n",
       "    <tr>\n",
       "      <th>73</th>\n",
       "      <td>8</td>\n",
       "    </tr>\n",
       "    <tr>\n",
       "      <th>74</th>\n",
       "      <td>0</td>\n",
       "    </tr>\n",
       "    <tr>\n",
       "      <th>75</th>\n",
       "      <td>0</td>\n",
       "    </tr>\n",
       "    <tr>\n",
       "      <th>76</th>\n",
       "      <td>4</td>\n",
       "    </tr>\n",
       "    <tr>\n",
       "      <th>77</th>\n",
       "      <td>2</td>\n",
       "    </tr>\n",
       "  </tbody>\n",
       "</table>\n",
       "</div>"
      ],
      "text/plain": [
       "    Area\n",
       "73     8\n",
       "74     0\n",
       "75     0\n",
       "76     4\n",
       "77     2"
      ]
     },
     "execution_count": 56,
     "metadata": {},
     "output_type": "execute_result"
    }
   ],
   "source": [
    "test_x = testdata.iloc[:, 1:]\n",
    "test_x.head()"
   ]
  },
  {
   "cell_type": "code",
   "execution_count": 57,
   "id": "750db923",
   "metadata": {},
   "outputs": [
    {
     "data": {
      "text/plain": [
       "73    12\n",
       "74     8\n",
       "75    21\n",
       "76    29\n",
       "77     1\n",
       "Name: Location, dtype: int32"
      ]
     },
     "execution_count": 57,
     "metadata": {},
     "output_type": "execute_result"
    }
   ],
   "source": [
    "test_y = testdata.iloc[:, 0]\n",
    "test_y.head()"
   ]
  },
  {
   "cell_type": "markdown",
   "id": "10b82fae",
   "metadata": {},
   "source": [
    "# Training model using support vector machine"
   ]
  },
  {
   "cell_type": "code",
   "execution_count": 58,
   "id": "ada7ae52",
   "metadata": {},
   "outputs": [
    {
     "name": "stdout",
     "output_type": "stream",
     "text": [
      "-- Training using SVC on Training Data --\n",
      "-- Parameters & Values: SVC(gamma='auto', random_state=0)\n"
     ]
    }
   ],
   "source": [
    "print(\"-- Training using SVC on Training Data --\")\n",
    "print(\"-- Parameters & Values: \", end='')\n",
    "\n",
    "model_svc = SVC(gamma='auto', random_state=0)\n",
    "model_svc.fit(train_x, np.ravel(train_y))\n",
    "\n",
    "print(model_svc)"
   ]
  },
  {
   "cell_type": "code",
   "execution_count": 60,
   "id": "85c76854",
   "metadata": {},
   "outputs": [],
   "source": [
    "# Saving Trained Model\n",
    "pickle.dump(model_svc, open('model_svc.pkl', 'wb'))"
   ]
  },
  {
   "cell_type": "code",
   "execution_count": 61,
   "id": "391eeec9",
   "metadata": {},
   "outputs": [],
   "source": [
    "# Load saved Model\n",
    "model = pickle.load(open('model_svc.pkl', 'rb'))"
   ]
  },
  {
   "cell_type": "code",
   "execution_count": 62,
   "id": "008dd526",
   "metadata": {},
   "outputs": [],
   "source": [
    "model_predictions = model.predict(test_x)\n",
    "\n",
    "testdata_predict = testdata.copy(deep=True)\n",
    "pd.options.mode.chained_assignment = None\n",
    "\n",
    "testdata_predict['Prediction'] = model_predictions"
   ]
  },
  {
   "cell_type": "code",
   "execution_count": 64,
   "id": "380dd4bd",
   "metadata": {},
   "outputs": [
    {
     "name": "stdout",
     "output_type": "stream",
     "text": [
      "-- Testing Data with Prediction --\n"
     ]
    }
   ],
   "source": [
    "# Printing Testing Data\n",
    "print(\"-- Testing Data with Prediction --\")\n",
    " "
   ]
  },
  {
   "cell_type": "code",
   "execution_count": 69,
   "id": "06913723",
   "metadata": {},
   "outputs": [
    {
     "name": "stdout",
     "output_type": "stream",
     "text": [
      "-- Model Accuracy Score: 0.105\n"
     ]
    }
   ],
   "source": [
    "model_accuracy_score = accuracy_score(testdata_predict['Location'], testdata_predict['Prediction'])\n",
    "\n",
    "print(\"-- Model Accuracy Score: \", end='')\n",
    "print(round(model_accuracy_score,3))"
   ]
  },
  {
   "cell_type": "code",
   "execution_count": null,
   "id": "22876f6d",
   "metadata": {},
   "outputs": [],
   "source": []
  }
 ],
 "metadata": {
  "kernelspec": {
   "display_name": "Python 3 (ipykernel)",
   "language": "python",
   "name": "python3"
  },
  "language_info": {
   "codemirror_mode": {
    "name": "ipython",
    "version": 3
   },
   "file_extension": ".py",
   "mimetype": "text/x-python",
   "name": "python",
   "nbconvert_exporter": "python",
   "pygments_lexer": "ipython3",
   "version": "3.11.5"
  }
 },
 "nbformat": 4,
 "nbformat_minor": 5
}
