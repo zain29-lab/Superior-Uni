{
 "cells": [
  {
   "cell_type": "markdown",
   "id": "93e20ccc-4fd4-4680-a5eb-43be36b80b15",
   "metadata": {},
   "source": [
    "# Task 5,(1) DFS with Stack & Node\n"
   ]
  },
  {
   "cell_type": "code",
   "execution_count": 2,
   "id": "273fb23b-e4e2-4157-85ad-f0b4f2dec811",
   "metadata": {},
   "outputs": [
    {
     "name": "stdout",
     "output_type": "stream",
     "text": [
      "DFS traversal:\n",
      "A C E B D "
     ]
    }
   ],
   "source": [
    "class Node:\n",
    "    \"\"\"Represents a node in a graph\"\"\"\n",
    "    def __init__(self, value):\n",
    "        self.value = value\n",
    "        self.visited = False\n",
    "        self.adjacent_nodes = []\n",
    "\n",
    "class Graph:\n",
    "    \"\"\"Represents a graph with nodes and edges\"\"\"\n",
    "    def __init__(self):\n",
    "        self.nodes = []\n",
    "\n",
    "    def add_node(self, value):\n",
    "        \"\"\"Add a new node to the graph\"\"\"\n",
    "        new_node = Node(value)\n",
    "        self.nodes.append(new_node)\n",
    "        return new_node\n",
    "\n",
    "    def add_edge(self, node1, node2):\n",
    "        \"\"\"Add an edge between two nodes\"\"\"\n",
    "        node1.adjacent_nodes.append(node2)\n",
    "        node2.adjacent_nodes.append(node1)\n",
    "\n",
    "    def dfs(self, start_node):\n",
    "        \"\"\"Perform a depth-first search of the graph\"\"\"\n",
    "        stack = [start_node]\n",
    "        while stack:\n",
    "            node = stack.pop()\n",
    "            if not node.visited:\n",
    "                node.visited = True\n",
    "                print(node.value, end=\" \")\n",
    "                for adjacent_node in node.adjacent_nodes:\n",
    "                    if not adjacent_node.visited:\n",
    "                        stack.append(adjacent_node)\n",
    "\n",
    "graph = Graph()\n",
    "\n",
    "node1 = graph.add_node(\"A\")\n",
    "node2 = graph.add_node(\"B\")\n",
    "node3 = graph.add_node(\"C\")\n",
    "node4 = graph.add_node(\"D\")\n",
    "node5 = graph.add_node(\"E\")\n",
    "\n",
    "graph.add_edge(node1, node2)\n",
    "graph.add_edge(node1, node3)\n",
    "graph.add_edge(node2, node4)\n",
    "graph.add_edge(node3, node5)\n",
    "\n",
    "print(\"DFS traversal:\")\n",
    "graph.dfs(node1)"
   ]
  },
  {
   "cell_type": "markdown",
   "id": "56b3db9d-c7b4-4706-9974-db151dcd11e3",
   "metadata": {},
   "source": [
    "# Task 5(2) Research about \"Inorder, Preorder, Postorder\" and implement in DFS\n"
   ]
  },
  {
   "cell_type": "code",
   "execution_count": 5,
   "id": "c9937150-2764-4d5e-b363-e8db1296723e",
   "metadata": {},
   "outputs": [
    {
     "name": "stdout",
     "output_type": "stream",
     "text": [
      "Inorder traversal:\n",
      "4 2 5 1 3 \n",
      "Preorder traversal:\n",
      "1 2 4 5 3 \n",
      "Postorder traversal:\n",
      "4 5 2 3 1 "
     ]
    }
   ],
   "source": [
    "class Node:\n",
    "    \"\"\"Represents a node in a tree\"\"\"\n",
    "    def __init__(self, value):\n",
    "        self.value = value\n",
    "        self.left = None\n",
    "        self.right = None\n",
    "\n",
    "class Tree:\n",
    "    \"\"\"Represents a tree with nodes\"\"\"\n",
    "    def __init__(self):\n",
    "        self.root = None\n",
    "\n",
    "    def inorder(self, node):\n",
    "        \"\"\"Perform an inorder traversal of the tree\"\"\"\n",
    "        if node:\n",
    "            self.inorder(node.left)\n",
    "            print(node.value, end=\" \")\n",
    "            self.inorder(node.right)\n",
    "\n",
    "    def preorder(self, node):\n",
    "        \"\"\"Perform a preorder traversal of the tree\"\"\"\n",
    "        if node:\n",
    "            print(node.value, end=\" \")\n",
    "            self.preorder(node.left)\n",
    "            self.preorder(node.right)\n",
    "\n",
    "    def postorder(self, node):\n",
    "        \"\"\"Perform a postorder traversal of the tree\"\"\"\n",
    "        if node:\n",
    "            self.postorder(node.left)\n",
    "            self.postorder(node.right)\n",
    "            print(node.value, end=\" \")\n",
    "\n",
    "tree = Tree()\n",
    "tree.root = Node(1)\n",
    "tree.root.left = Node(2)\n",
    "tree.root.right = Node(3)\n",
    "tree.root.left.left = Node(4)\n",
    "tree.root.left.right = Node(5)\n",
    "\n",
    "print(\"Inorder traversal:\")\n",
    "tree.inorder(tree.root)\n",
    "print(\"\\nPreorder traversal:\")\n",
    "tree.preorder(tree.root)\n",
    "print(\"\\nPostorder traversal:\")\n",
    "tree.postorder(tree.root)"
   ]
  },
  {
   "cell_type": "code",
   "execution_count": null,
   "id": "eaf45c69-2306-4592-9deb-17e4e02df98d",
   "metadata": {},
   "outputs": [],
   "source": []
  }
 ],
 "metadata": {
  "kernelspec": {
   "display_name": "Python 3 (ipykernel)",
   "language": "python",
   "name": "python3"
  },
  "language_info": {
   "codemirror_mode": {
    "name": "ipython",
    "version": 3
   },
   "file_extension": ".py",
   "mimetype": "text/x-python",
   "name": "python",
   "nbconvert_exporter": "python",
   "pygments_lexer": "ipython3",
   "version": "3.12.4"
  }
 },
 "nbformat": 4,
 "nbformat_minor": 5
}
