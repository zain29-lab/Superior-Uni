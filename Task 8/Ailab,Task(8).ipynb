{
 "cells": [
  {
   "cell_type": "code",
   "execution_count": 3,
   "id": "8f929486-24d1-40f7-8e76-1e514d19ed1e",
   "metadata": {},
   "outputs": [],
   "source": [
    "def minimax(board, depth, maximizing_player):    \n",
    "    if depth == 0 or is_terminal(board):\n",
    "        return None, evaluate_board(board)\n",
    "\n",
    "    if maximizing_player:\n",
    "        best_move = None\n",
    "        best_score = float('-inf')\n",
    "\n",
    "        for move in get_legal_moves(board):\n",
    "            new_board = make_move(board, move)\n",
    "            _, score = minimax(new_board, depth - 1, False)\n",
    "            if score > best_score:\n",
    "                best_move = move\n",
    "                best_score = score\n",
    "\n",
    "        return best_move, best_score\n",
    "\n",
    "    else:\n",
    "        best_move = None\n",
    "        best_score = float('inf')\n",
    "\n",
    "        for move in get_legal_moves(board):\n",
    "            new_board = make_move(board, move)\n",
    "            _, score = minimax(new_board, depth - 1, True)\n",
    "            if score < best_score:\n",
    "                best_move = move\n",
    "                best_score = score\n",
    "\n",
    "        return best_move, best_score"
   ]
  },
  {
   "cell_type": "code",
   "execution_count": null,
   "id": "56fcab57-f89d-4d1f-b1f0-0fc6820d3d82",
   "metadata": {},
   "outputs": [],
   "source": []
  },
  {
   "cell_type": "code",
   "execution_count": null,
   "id": "b0fea789-310b-4d32-ab43-acb98206400b",
   "metadata": {},
   "outputs": [],
   "source": []
  }
 ],
 "metadata": {
  "kernelspec": {
   "display_name": "Python 3 (ipykernel)",
   "language": "python",
   "name": "python3"
  },
  "language_info": {
   "codemirror_mode": {
    "name": "ipython",
    "version": 3
   },
   "file_extension": ".py",
   "mimetype": "text/x-python",
   "name": "python",
   "nbconvert_exporter": "python",
   "pygments_lexer": "ipython3",
   "version": "3.12.4"
  }
 },
 "nbformat": 4,
 "nbformat_minor": 5
}
